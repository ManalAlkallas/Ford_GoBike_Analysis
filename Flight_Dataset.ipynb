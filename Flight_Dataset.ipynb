{
 "cells": [
  {
   "cell_type": "markdown",
   "metadata": {},
   "source": [
    "# FLights Data set \n",
    "\n",
    "## Preliminary Wrangling\n",
    "\n",
    "The original dataset reports flights in the United States, including carriers, arrival and departure delays, and reasons for delays, from 1987 to 2008.\n",
    "\n",
    "I will analyse the data from 2008 data set. The data set can be downloaded from http://stat-computing.org/dataexpo/2009/the-data.html."
   ]
  },
  {
   "cell_type": "code",
   "execution_count": 165,
   "metadata": {},
   "outputs": [],
   "source": [
    "# import modules\n",
    "import pandas as pd\n",
    "import numpy as np\n",
    "import calendar\n",
    "import datetime as dt\n",
    "\n",
    "import matplotlib.pyplot as plt\n",
    "import seaborn as sns\n",
    "%matplotlib inline"
   ]
  },
  {
   "cell_type": "markdown",
   "metadata": {},
   "source": [
    "## Gathering"
   ]
  },
  {
   "cell_type": "code",
   "execution_count": 166,
   "metadata": {},
   "outputs": [
    {
     "data": {
      "text/plain": [
       "(7009728, 29)"
      ]
     },
     "execution_count": 166,
     "metadata": {},
     "output_type": "execute_result"
    }
   ],
   "source": [
    "df= pd.read_csv('data/2008.csv', nrows=None, encoding='latin-1')\n",
    "df.shape"
   ]
  },
  {
   "cell_type": "code",
   "execution_count": 167,
   "metadata": {},
   "outputs": [
    {
     "data": {
      "text/html": [
       "<div>\n",
       "<style scoped>\n",
       "    .dataframe tbody tr th:only-of-type {\n",
       "        vertical-align: middle;\n",
       "    }\n",
       "\n",
       "    .dataframe tbody tr th {\n",
       "        vertical-align: top;\n",
       "    }\n",
       "\n",
       "    .dataframe thead th {\n",
       "        text-align: right;\n",
       "    }\n",
       "</style>\n",
       "<table border=\"1\" class=\"dataframe\">\n",
       "  <thead>\n",
       "    <tr style=\"text-align: right;\">\n",
       "      <th></th>\n",
       "      <th>Year</th>\n",
       "      <th>Month</th>\n",
       "      <th>DayofMonth</th>\n",
       "      <th>DayOfWeek</th>\n",
       "      <th>DepTime</th>\n",
       "      <th>CRSDepTime</th>\n",
       "      <th>ArrTime</th>\n",
       "      <th>CRSArrTime</th>\n",
       "      <th>UniqueCarrier</th>\n",
       "      <th>FlightNum</th>\n",
       "      <th>...</th>\n",
       "      <th>TaxiIn</th>\n",
       "      <th>TaxiOut</th>\n",
       "      <th>Cancelled</th>\n",
       "      <th>CancellationCode</th>\n",
       "      <th>Diverted</th>\n",
       "      <th>CarrierDelay</th>\n",
       "      <th>WeatherDelay</th>\n",
       "      <th>NASDelay</th>\n",
       "      <th>SecurityDelay</th>\n",
       "      <th>LateAircraftDelay</th>\n",
       "    </tr>\n",
       "  </thead>\n",
       "  <tbody>\n",
       "    <tr>\n",
       "      <th>3934310</th>\n",
       "      <td>2008</td>\n",
       "      <td>7</td>\n",
       "      <td>14</td>\n",
       "      <td>1</td>\n",
       "      <td>1422.0</td>\n",
       "      <td>1410</td>\n",
       "      <td>1554.0</td>\n",
       "      <td>1539</td>\n",
       "      <td>EV</td>\n",
       "      <td>4161</td>\n",
       "      <td>...</td>\n",
       "      <td>12.0</td>\n",
       "      <td>19.0</td>\n",
       "      <td>0</td>\n",
       "      <td>NaN</td>\n",
       "      <td>0</td>\n",
       "      <td>0.0</td>\n",
       "      <td>0.0</td>\n",
       "      <td>15.0</td>\n",
       "      <td>0.0</td>\n",
       "      <td>0.0</td>\n",
       "    </tr>\n",
       "  </tbody>\n",
       "</table>\n",
       "<p>1 rows × 29 columns</p>\n",
       "</div>"
      ],
      "text/plain": [
       "         Year  Month  DayofMonth  DayOfWeek  DepTime  CRSDepTime  ArrTime  \\\n",
       "3934310  2008      7          14          1   1422.0        1410   1554.0   \n",
       "\n",
       "         CRSArrTime UniqueCarrier  FlightNum  ... TaxiIn  TaxiOut  Cancelled  \\\n",
       "3934310        1539            EV       4161  ...   12.0     19.0          0   \n",
       "\n",
       "         CancellationCode  Diverted  CarrierDelay WeatherDelay NASDelay  \\\n",
       "3934310               NaN         0           0.0          0.0     15.0   \n",
       "\n",
       "         SecurityDelay  LateAircraftDelay  \n",
       "3934310            0.0                0.0  \n",
       "\n",
       "[1 rows x 29 columns]"
      ]
     },
     "execution_count": 167,
     "metadata": {},
     "output_type": "execute_result"
    }
   ],
   "source": [
    "df.sample()"
   ]
  },
  {
   "cell_type": "code",
   "execution_count": 4,
   "metadata": {},
   "outputs": [
    {
     "data": {
      "text/plain": [
       "(7009728, 29)"
      ]
     },
     "execution_count": 4,
     "metadata": {},
     "output_type": "execute_result"
    }
   ],
   "source": [
    "# check shape\n",
    "df.shape"
   ]
  },
  {
   "cell_type": "markdown",
   "metadata": {},
   "source": [
    "## Assessing"
   ]
  },
  {
   "cell_type": "code",
   "execution_count": 5,
   "metadata": {},
   "outputs": [
    {
     "data": {
      "text/html": [
       "<div>\n",
       "<style scoped>\n",
       "    .dataframe tbody tr th:only-of-type {\n",
       "        vertical-align: middle;\n",
       "    }\n",
       "\n",
       "    .dataframe tbody tr th {\n",
       "        vertical-align: top;\n",
       "    }\n",
       "\n",
       "    .dataframe thead th {\n",
       "        text-align: right;\n",
       "    }\n",
       "</style>\n",
       "<table border=\"1\" class=\"dataframe\">\n",
       "  <thead>\n",
       "    <tr style=\"text-align: right;\">\n",
       "      <th></th>\n",
       "      <th>0</th>\n",
       "      <th>1</th>\n",
       "      <th>2</th>\n",
       "      <th>3</th>\n",
       "      <th>4</th>\n",
       "      <th>5</th>\n",
       "      <th>6</th>\n",
       "      <th>7</th>\n",
       "      <th>8</th>\n",
       "      <th>9</th>\n",
       "    </tr>\n",
       "  </thead>\n",
       "  <tbody>\n",
       "    <tr>\n",
       "      <th>Year</th>\n",
       "      <td>2008</td>\n",
       "      <td>2008</td>\n",
       "      <td>2008</td>\n",
       "      <td>2008</td>\n",
       "      <td>2008</td>\n",
       "      <td>2008</td>\n",
       "      <td>2008</td>\n",
       "      <td>2008</td>\n",
       "      <td>2008</td>\n",
       "      <td>2008</td>\n",
       "    </tr>\n",
       "    <tr>\n",
       "      <th>Month</th>\n",
       "      <td>1</td>\n",
       "      <td>1</td>\n",
       "      <td>1</td>\n",
       "      <td>1</td>\n",
       "      <td>1</td>\n",
       "      <td>1</td>\n",
       "      <td>1</td>\n",
       "      <td>1</td>\n",
       "      <td>1</td>\n",
       "      <td>1</td>\n",
       "    </tr>\n",
       "    <tr>\n",
       "      <th>DayofMonth</th>\n",
       "      <td>3</td>\n",
       "      <td>3</td>\n",
       "      <td>3</td>\n",
       "      <td>3</td>\n",
       "      <td>3</td>\n",
       "      <td>3</td>\n",
       "      <td>3</td>\n",
       "      <td>3</td>\n",
       "      <td>3</td>\n",
       "      <td>3</td>\n",
       "    </tr>\n",
       "    <tr>\n",
       "      <th>DayOfWeek</th>\n",
       "      <td>4</td>\n",
       "      <td>4</td>\n",
       "      <td>4</td>\n",
       "      <td>4</td>\n",
       "      <td>4</td>\n",
       "      <td>4</td>\n",
       "      <td>4</td>\n",
       "      <td>4</td>\n",
       "      <td>4</td>\n",
       "      <td>4</td>\n",
       "    </tr>\n",
       "    <tr>\n",
       "      <th>DepTime</th>\n",
       "      <td>2003</td>\n",
       "      <td>754</td>\n",
       "      <td>628</td>\n",
       "      <td>926</td>\n",
       "      <td>1829</td>\n",
       "      <td>1940</td>\n",
       "      <td>1937</td>\n",
       "      <td>1039</td>\n",
       "      <td>617</td>\n",
       "      <td>1620</td>\n",
       "    </tr>\n",
       "    <tr>\n",
       "      <th>CRSDepTime</th>\n",
       "      <td>1955</td>\n",
       "      <td>735</td>\n",
       "      <td>620</td>\n",
       "      <td>930</td>\n",
       "      <td>1755</td>\n",
       "      <td>1915</td>\n",
       "      <td>1830</td>\n",
       "      <td>1040</td>\n",
       "      <td>615</td>\n",
       "      <td>1620</td>\n",
       "    </tr>\n",
       "    <tr>\n",
       "      <th>ArrTime</th>\n",
       "      <td>2211</td>\n",
       "      <td>1002</td>\n",
       "      <td>804</td>\n",
       "      <td>1054</td>\n",
       "      <td>1959</td>\n",
       "      <td>2121</td>\n",
       "      <td>2037</td>\n",
       "      <td>1132</td>\n",
       "      <td>652</td>\n",
       "      <td>1639</td>\n",
       "    </tr>\n",
       "    <tr>\n",
       "      <th>CRSArrTime</th>\n",
       "      <td>2225</td>\n",
       "      <td>1000</td>\n",
       "      <td>750</td>\n",
       "      <td>1100</td>\n",
       "      <td>1925</td>\n",
       "      <td>2110</td>\n",
       "      <td>1940</td>\n",
       "      <td>1150</td>\n",
       "      <td>650</td>\n",
       "      <td>1655</td>\n",
       "    </tr>\n",
       "    <tr>\n",
       "      <th>UniqueCarrier</th>\n",
       "      <td>WN</td>\n",
       "      <td>WN</td>\n",
       "      <td>WN</td>\n",
       "      <td>WN</td>\n",
       "      <td>WN</td>\n",
       "      <td>WN</td>\n",
       "      <td>WN</td>\n",
       "      <td>WN</td>\n",
       "      <td>WN</td>\n",
       "      <td>WN</td>\n",
       "    </tr>\n",
       "    <tr>\n",
       "      <th>FlightNum</th>\n",
       "      <td>335</td>\n",
       "      <td>3231</td>\n",
       "      <td>448</td>\n",
       "      <td>1746</td>\n",
       "      <td>3920</td>\n",
       "      <td>378</td>\n",
       "      <td>509</td>\n",
       "      <td>535</td>\n",
       "      <td>11</td>\n",
       "      <td>810</td>\n",
       "    </tr>\n",
       "    <tr>\n",
       "      <th>TailNum</th>\n",
       "      <td>N712SW</td>\n",
       "      <td>N772SW</td>\n",
       "      <td>N428WN</td>\n",
       "      <td>N612SW</td>\n",
       "      <td>N464WN</td>\n",
       "      <td>N726SW</td>\n",
       "      <td>N763SW</td>\n",
       "      <td>N428WN</td>\n",
       "      <td>N689SW</td>\n",
       "      <td>N648SW</td>\n",
       "    </tr>\n",
       "    <tr>\n",
       "      <th>ActualElapsedTime</th>\n",
       "      <td>128</td>\n",
       "      <td>128</td>\n",
       "      <td>96</td>\n",
       "      <td>88</td>\n",
       "      <td>90</td>\n",
       "      <td>101</td>\n",
       "      <td>240</td>\n",
       "      <td>233</td>\n",
       "      <td>95</td>\n",
       "      <td>79</td>\n",
       "    </tr>\n",
       "    <tr>\n",
       "      <th>CRSElapsedTime</th>\n",
       "      <td>150</td>\n",
       "      <td>145</td>\n",
       "      <td>90</td>\n",
       "      <td>90</td>\n",
       "      <td>90</td>\n",
       "      <td>115</td>\n",
       "      <td>250</td>\n",
       "      <td>250</td>\n",
       "      <td>95</td>\n",
       "      <td>95</td>\n",
       "    </tr>\n",
       "    <tr>\n",
       "      <th>AirTime</th>\n",
       "      <td>116</td>\n",
       "      <td>113</td>\n",
       "      <td>76</td>\n",
       "      <td>78</td>\n",
       "      <td>77</td>\n",
       "      <td>87</td>\n",
       "      <td>230</td>\n",
       "      <td>219</td>\n",
       "      <td>70</td>\n",
       "      <td>70</td>\n",
       "    </tr>\n",
       "    <tr>\n",
       "      <th>ArrDelay</th>\n",
       "      <td>-14</td>\n",
       "      <td>2</td>\n",
       "      <td>14</td>\n",
       "      <td>-6</td>\n",
       "      <td>34</td>\n",
       "      <td>11</td>\n",
       "      <td>57</td>\n",
       "      <td>-18</td>\n",
       "      <td>2</td>\n",
       "      <td>-16</td>\n",
       "    </tr>\n",
       "    <tr>\n",
       "      <th>DepDelay</th>\n",
       "      <td>8</td>\n",
       "      <td>19</td>\n",
       "      <td>8</td>\n",
       "      <td>-4</td>\n",
       "      <td>34</td>\n",
       "      <td>25</td>\n",
       "      <td>67</td>\n",
       "      <td>-1</td>\n",
       "      <td>2</td>\n",
       "      <td>0</td>\n",
       "    </tr>\n",
       "    <tr>\n",
       "      <th>Origin</th>\n",
       "      <td>IAD</td>\n",
       "      <td>IAD</td>\n",
       "      <td>IND</td>\n",
       "      <td>IND</td>\n",
       "      <td>IND</td>\n",
       "      <td>IND</td>\n",
       "      <td>IND</td>\n",
       "      <td>IND</td>\n",
       "      <td>IND</td>\n",
       "      <td>IND</td>\n",
       "    </tr>\n",
       "    <tr>\n",
       "      <th>Dest</th>\n",
       "      <td>TPA</td>\n",
       "      <td>TPA</td>\n",
       "      <td>BWI</td>\n",
       "      <td>BWI</td>\n",
       "      <td>BWI</td>\n",
       "      <td>JAX</td>\n",
       "      <td>LAS</td>\n",
       "      <td>LAS</td>\n",
       "      <td>MCI</td>\n",
       "      <td>MCI</td>\n",
       "    </tr>\n",
       "    <tr>\n",
       "      <th>Distance</th>\n",
       "      <td>810</td>\n",
       "      <td>810</td>\n",
       "      <td>515</td>\n",
       "      <td>515</td>\n",
       "      <td>515</td>\n",
       "      <td>688</td>\n",
       "      <td>1591</td>\n",
       "      <td>1591</td>\n",
       "      <td>451</td>\n",
       "      <td>451</td>\n",
       "    </tr>\n",
       "    <tr>\n",
       "      <th>TaxiIn</th>\n",
       "      <td>4</td>\n",
       "      <td>5</td>\n",
       "      <td>3</td>\n",
       "      <td>3</td>\n",
       "      <td>3</td>\n",
       "      <td>4</td>\n",
       "      <td>3</td>\n",
       "      <td>7</td>\n",
       "      <td>6</td>\n",
       "      <td>3</td>\n",
       "    </tr>\n",
       "    <tr>\n",
       "      <th>TaxiOut</th>\n",
       "      <td>8</td>\n",
       "      <td>10</td>\n",
       "      <td>17</td>\n",
       "      <td>7</td>\n",
       "      <td>10</td>\n",
       "      <td>10</td>\n",
       "      <td>7</td>\n",
       "      <td>7</td>\n",
       "      <td>19</td>\n",
       "      <td>6</td>\n",
       "    </tr>\n",
       "    <tr>\n",
       "      <th>Cancelled</th>\n",
       "      <td>0</td>\n",
       "      <td>0</td>\n",
       "      <td>0</td>\n",
       "      <td>0</td>\n",
       "      <td>0</td>\n",
       "      <td>0</td>\n",
       "      <td>0</td>\n",
       "      <td>0</td>\n",
       "      <td>0</td>\n",
       "      <td>0</td>\n",
       "    </tr>\n",
       "    <tr>\n",
       "      <th>CancellationCode</th>\n",
       "      <td>NaN</td>\n",
       "      <td>NaN</td>\n",
       "      <td>NaN</td>\n",
       "      <td>NaN</td>\n",
       "      <td>NaN</td>\n",
       "      <td>NaN</td>\n",
       "      <td>NaN</td>\n",
       "      <td>NaN</td>\n",
       "      <td>NaN</td>\n",
       "      <td>NaN</td>\n",
       "    </tr>\n",
       "    <tr>\n",
       "      <th>Diverted</th>\n",
       "      <td>0</td>\n",
       "      <td>0</td>\n",
       "      <td>0</td>\n",
       "      <td>0</td>\n",
       "      <td>0</td>\n",
       "      <td>0</td>\n",
       "      <td>0</td>\n",
       "      <td>0</td>\n",
       "      <td>0</td>\n",
       "      <td>0</td>\n",
       "    </tr>\n",
       "    <tr>\n",
       "      <th>CarrierDelay</th>\n",
       "      <td>NaN</td>\n",
       "      <td>NaN</td>\n",
       "      <td>NaN</td>\n",
       "      <td>NaN</td>\n",
       "      <td>2</td>\n",
       "      <td>NaN</td>\n",
       "      <td>10</td>\n",
       "      <td>NaN</td>\n",
       "      <td>NaN</td>\n",
       "      <td>NaN</td>\n",
       "    </tr>\n",
       "    <tr>\n",
       "      <th>WeatherDelay</th>\n",
       "      <td>NaN</td>\n",
       "      <td>NaN</td>\n",
       "      <td>NaN</td>\n",
       "      <td>NaN</td>\n",
       "      <td>0</td>\n",
       "      <td>NaN</td>\n",
       "      <td>0</td>\n",
       "      <td>NaN</td>\n",
       "      <td>NaN</td>\n",
       "      <td>NaN</td>\n",
       "    </tr>\n",
       "    <tr>\n",
       "      <th>NASDelay</th>\n",
       "      <td>NaN</td>\n",
       "      <td>NaN</td>\n",
       "      <td>NaN</td>\n",
       "      <td>NaN</td>\n",
       "      <td>0</td>\n",
       "      <td>NaN</td>\n",
       "      <td>0</td>\n",
       "      <td>NaN</td>\n",
       "      <td>NaN</td>\n",
       "      <td>NaN</td>\n",
       "    </tr>\n",
       "    <tr>\n",
       "      <th>SecurityDelay</th>\n",
       "      <td>NaN</td>\n",
       "      <td>NaN</td>\n",
       "      <td>NaN</td>\n",
       "      <td>NaN</td>\n",
       "      <td>0</td>\n",
       "      <td>NaN</td>\n",
       "      <td>0</td>\n",
       "      <td>NaN</td>\n",
       "      <td>NaN</td>\n",
       "      <td>NaN</td>\n",
       "    </tr>\n",
       "    <tr>\n",
       "      <th>LateAircraftDelay</th>\n",
       "      <td>NaN</td>\n",
       "      <td>NaN</td>\n",
       "      <td>NaN</td>\n",
       "      <td>NaN</td>\n",
       "      <td>32</td>\n",
       "      <td>NaN</td>\n",
       "      <td>47</td>\n",
       "      <td>NaN</td>\n",
       "      <td>NaN</td>\n",
       "      <td>NaN</td>\n",
       "    </tr>\n",
       "  </tbody>\n",
       "</table>\n",
       "</div>"
      ],
      "text/plain": [
       "                        0       1       2       3       4       5       6  \\\n",
       "Year                 2008    2008    2008    2008    2008    2008    2008   \n",
       "Month                   1       1       1       1       1       1       1   \n",
       "DayofMonth              3       3       3       3       3       3       3   \n",
       "DayOfWeek               4       4       4       4       4       4       4   \n",
       "DepTime              2003     754     628     926    1829    1940    1937   \n",
       "CRSDepTime           1955     735     620     930    1755    1915    1830   \n",
       "ArrTime              2211    1002     804    1054    1959    2121    2037   \n",
       "CRSArrTime           2225    1000     750    1100    1925    2110    1940   \n",
       "UniqueCarrier          WN      WN      WN      WN      WN      WN      WN   \n",
       "FlightNum             335    3231     448    1746    3920     378     509   \n",
       "TailNum            N712SW  N772SW  N428WN  N612SW  N464WN  N726SW  N763SW   \n",
       "ActualElapsedTime     128     128      96      88      90     101     240   \n",
       "CRSElapsedTime        150     145      90      90      90     115     250   \n",
       "AirTime               116     113      76      78      77      87     230   \n",
       "ArrDelay              -14       2      14      -6      34      11      57   \n",
       "DepDelay                8      19       8      -4      34      25      67   \n",
       "Origin                IAD     IAD     IND     IND     IND     IND     IND   \n",
       "Dest                  TPA     TPA     BWI     BWI     BWI     JAX     LAS   \n",
       "Distance              810     810     515     515     515     688    1591   \n",
       "TaxiIn                  4       5       3       3       3       4       3   \n",
       "TaxiOut                 8      10      17       7      10      10       7   \n",
       "Cancelled               0       0       0       0       0       0       0   \n",
       "CancellationCode      NaN     NaN     NaN     NaN     NaN     NaN     NaN   \n",
       "Diverted                0       0       0       0       0       0       0   \n",
       "CarrierDelay          NaN     NaN     NaN     NaN       2     NaN      10   \n",
       "WeatherDelay          NaN     NaN     NaN     NaN       0     NaN       0   \n",
       "NASDelay              NaN     NaN     NaN     NaN       0     NaN       0   \n",
       "SecurityDelay         NaN     NaN     NaN     NaN       0     NaN       0   \n",
       "LateAircraftDelay     NaN     NaN     NaN     NaN      32     NaN      47   \n",
       "\n",
       "                        7       8       9  \n",
       "Year                 2008    2008    2008  \n",
       "Month                   1       1       1  \n",
       "DayofMonth              3       3       3  \n",
       "DayOfWeek               4       4       4  \n",
       "DepTime              1039     617    1620  \n",
       "CRSDepTime           1040     615    1620  \n",
       "ArrTime              1132     652    1639  \n",
       "CRSArrTime           1150     650    1655  \n",
       "UniqueCarrier          WN      WN      WN  \n",
       "FlightNum             535      11     810  \n",
       "TailNum            N428WN  N689SW  N648SW  \n",
       "ActualElapsedTime     233      95      79  \n",
       "CRSElapsedTime        250      95      95  \n",
       "AirTime               219      70      70  \n",
       "ArrDelay              -18       2     -16  \n",
       "DepDelay               -1       2       0  \n",
       "Origin                IND     IND     IND  \n",
       "Dest                  LAS     MCI     MCI  \n",
       "Distance             1591     451     451  \n",
       "TaxiIn                  7       6       3  \n",
       "TaxiOut                 7      19       6  \n",
       "Cancelled               0       0       0  \n",
       "CancellationCode      NaN     NaN     NaN  \n",
       "Diverted                0       0       0  \n",
       "CarrierDelay          NaN     NaN     NaN  \n",
       "WeatherDelay          NaN     NaN     NaN  \n",
       "NASDelay              NaN     NaN     NaN  \n",
       "SecurityDelay         NaN     NaN     NaN  \n",
       "LateAircraftDelay     NaN     NaN     NaN  "
      ]
     },
     "execution_count": 5,
     "metadata": {},
     "output_type": "execute_result"
    }
   ],
   "source": [
    "# check df\n",
    "df.head(10).T"
   ]
  },
  {
   "cell_type": "code",
   "execution_count": 6,
   "metadata": {},
   "outputs": [
    {
     "data": {
      "text/html": [
       "<div>\n",
       "<style scoped>\n",
       "    .dataframe tbody tr th:only-of-type {\n",
       "        vertical-align: middle;\n",
       "    }\n",
       "\n",
       "    .dataframe tbody tr th {\n",
       "        vertical-align: top;\n",
       "    }\n",
       "\n",
       "    .dataframe thead th {\n",
       "        text-align: right;\n",
       "    }\n",
       "</style>\n",
       "<table border=\"1\" class=\"dataframe\">\n",
       "  <thead>\n",
       "    <tr style=\"text-align: right;\">\n",
       "      <th></th>\n",
       "      <th>Year</th>\n",
       "      <th>Month</th>\n",
       "      <th>DayofMonth</th>\n",
       "      <th>DayOfWeek</th>\n",
       "      <th>DepTime</th>\n",
       "      <th>CRSDepTime</th>\n",
       "      <th>ArrTime</th>\n",
       "      <th>CRSArrTime</th>\n",
       "      <th>FlightNum</th>\n",
       "      <th>ActualElapsedTime</th>\n",
       "      <th>...</th>\n",
       "      <th>Distance</th>\n",
       "      <th>TaxiIn</th>\n",
       "      <th>TaxiOut</th>\n",
       "      <th>Cancelled</th>\n",
       "      <th>Diverted</th>\n",
       "      <th>CarrierDelay</th>\n",
       "      <th>WeatherDelay</th>\n",
       "      <th>NASDelay</th>\n",
       "      <th>SecurityDelay</th>\n",
       "      <th>LateAircraftDelay</th>\n",
       "    </tr>\n",
       "  </thead>\n",
       "  <tbody>\n",
       "    <tr>\n",
       "      <th>count</th>\n",
       "      <td>7009728.0</td>\n",
       "      <td>7.009728e+06</td>\n",
       "      <td>7.009728e+06</td>\n",
       "      <td>7.009728e+06</td>\n",
       "      <td>6.873482e+06</td>\n",
       "      <td>7.009728e+06</td>\n",
       "      <td>6.858079e+06</td>\n",
       "      <td>7.009728e+06</td>\n",
       "      <td>7.009728e+06</td>\n",
       "      <td>6.855029e+06</td>\n",
       "      <td>...</td>\n",
       "      <td>7.009728e+06</td>\n",
       "      <td>6.858079e+06</td>\n",
       "      <td>6.872670e+06</td>\n",
       "      <td>7.009728e+06</td>\n",
       "      <td>7.009728e+06</td>\n",
       "      <td>1.524735e+06</td>\n",
       "      <td>1.524735e+06</td>\n",
       "      <td>1.524735e+06</td>\n",
       "      <td>1.524735e+06</td>\n",
       "      <td>1.524735e+06</td>\n",
       "    </tr>\n",
       "    <tr>\n",
       "      <th>mean</th>\n",
       "      <td>2008.0</td>\n",
       "      <td>6.375130e+00</td>\n",
       "      <td>1.572801e+01</td>\n",
       "      <td>3.924182e+00</td>\n",
       "      <td>1.333830e+03</td>\n",
       "      <td>1.326086e+03</td>\n",
       "      <td>1.481258e+03</td>\n",
       "      <td>1.494801e+03</td>\n",
       "      <td>2.224200e+03</td>\n",
       "      <td>1.273224e+02</td>\n",
       "      <td>...</td>\n",
       "      <td>7.263870e+02</td>\n",
       "      <td>6.860852e+00</td>\n",
       "      <td>1.645305e+01</td>\n",
       "      <td>1.960618e-02</td>\n",
       "      <td>2.463006e-03</td>\n",
       "      <td>1.577206e+01</td>\n",
       "      <td>3.039031e+00</td>\n",
       "      <td>1.716462e+01</td>\n",
       "      <td>7.497434e-02</td>\n",
       "      <td>2.077098e+01</td>\n",
       "    </tr>\n",
       "    <tr>\n",
       "      <th>std</th>\n",
       "      <td>0.0</td>\n",
       "      <td>3.406737e+00</td>\n",
       "      <td>8.797068e+00</td>\n",
       "      <td>1.988259e+00</td>\n",
       "      <td>4.780689e+02</td>\n",
       "      <td>4.642509e+02</td>\n",
       "      <td>5.052251e+02</td>\n",
       "      <td>4.826728e+02</td>\n",
       "      <td>1.961716e+03</td>\n",
       "      <td>7.018731e+01</td>\n",
       "      <td>...</td>\n",
       "      <td>5.621018e+02</td>\n",
       "      <td>4.933649e+00</td>\n",
       "      <td>1.133280e+01</td>\n",
       "      <td>1.386426e-01</td>\n",
       "      <td>4.956753e-02</td>\n",
       "      <td>4.009912e+01</td>\n",
       "      <td>1.950287e+01</td>\n",
       "      <td>3.189495e+01</td>\n",
       "      <td>1.837940e+00</td>\n",
       "      <td>3.925964e+01</td>\n",
       "    </tr>\n",
       "    <tr>\n",
       "      <th>min</th>\n",
       "      <td>2008.0</td>\n",
       "      <td>1.000000e+00</td>\n",
       "      <td>1.000000e+00</td>\n",
       "      <td>1.000000e+00</td>\n",
       "      <td>1.000000e+00</td>\n",
       "      <td>0.000000e+00</td>\n",
       "      <td>1.000000e+00</td>\n",
       "      <td>0.000000e+00</td>\n",
       "      <td>1.000000e+00</td>\n",
       "      <td>1.200000e+01</td>\n",
       "      <td>...</td>\n",
       "      <td>1.100000e+01</td>\n",
       "      <td>0.000000e+00</td>\n",
       "      <td>0.000000e+00</td>\n",
       "      <td>0.000000e+00</td>\n",
       "      <td>0.000000e+00</td>\n",
       "      <td>0.000000e+00</td>\n",
       "      <td>0.000000e+00</td>\n",
       "      <td>0.000000e+00</td>\n",
       "      <td>0.000000e+00</td>\n",
       "      <td>0.000000e+00</td>\n",
       "    </tr>\n",
       "    <tr>\n",
       "      <th>25%</th>\n",
       "      <td>2008.0</td>\n",
       "      <td>3.000000e+00</td>\n",
       "      <td>8.000000e+00</td>\n",
       "      <td>2.000000e+00</td>\n",
       "      <td>9.280000e+02</td>\n",
       "      <td>9.250000e+02</td>\n",
       "      <td>1.107000e+03</td>\n",
       "      <td>1.115000e+03</td>\n",
       "      <td>6.220000e+02</td>\n",
       "      <td>7.700000e+01</td>\n",
       "      <td>...</td>\n",
       "      <td>3.250000e+02</td>\n",
       "      <td>4.000000e+00</td>\n",
       "      <td>1.000000e+01</td>\n",
       "      <td>0.000000e+00</td>\n",
       "      <td>0.000000e+00</td>\n",
       "      <td>0.000000e+00</td>\n",
       "      <td>0.000000e+00</td>\n",
       "      <td>0.000000e+00</td>\n",
       "      <td>0.000000e+00</td>\n",
       "      <td>0.000000e+00</td>\n",
       "    </tr>\n",
       "    <tr>\n",
       "      <th>50%</th>\n",
       "      <td>2008.0</td>\n",
       "      <td>6.000000e+00</td>\n",
       "      <td>1.600000e+01</td>\n",
       "      <td>4.000000e+00</td>\n",
       "      <td>1.325000e+03</td>\n",
       "      <td>1.320000e+03</td>\n",
       "      <td>1.512000e+03</td>\n",
       "      <td>1.517000e+03</td>\n",
       "      <td>1.571000e+03</td>\n",
       "      <td>1.100000e+02</td>\n",
       "      <td>...</td>\n",
       "      <td>5.810000e+02</td>\n",
       "      <td>6.000000e+00</td>\n",
       "      <td>1.400000e+01</td>\n",
       "      <td>0.000000e+00</td>\n",
       "      <td>0.000000e+00</td>\n",
       "      <td>0.000000e+00</td>\n",
       "      <td>0.000000e+00</td>\n",
       "      <td>6.000000e+00</td>\n",
       "      <td>0.000000e+00</td>\n",
       "      <td>0.000000e+00</td>\n",
       "    </tr>\n",
       "    <tr>\n",
       "      <th>75%</th>\n",
       "      <td>2008.0</td>\n",
       "      <td>9.000000e+00</td>\n",
       "      <td>2.300000e+01</td>\n",
       "      <td>6.000000e+00</td>\n",
       "      <td>1.728000e+03</td>\n",
       "      <td>1.715000e+03</td>\n",
       "      <td>1.909000e+03</td>\n",
       "      <td>1.907000e+03</td>\n",
       "      <td>3.518000e+03</td>\n",
       "      <td>1.570000e+02</td>\n",
       "      <td>...</td>\n",
       "      <td>9.540000e+02</td>\n",
       "      <td>8.000000e+00</td>\n",
       "      <td>1.900000e+01</td>\n",
       "      <td>0.000000e+00</td>\n",
       "      <td>0.000000e+00</td>\n",
       "      <td>1.600000e+01</td>\n",
       "      <td>0.000000e+00</td>\n",
       "      <td>2.100000e+01</td>\n",
       "      <td>0.000000e+00</td>\n",
       "      <td>2.600000e+01</td>\n",
       "    </tr>\n",
       "    <tr>\n",
       "      <th>max</th>\n",
       "      <td>2008.0</td>\n",
       "      <td>1.200000e+01</td>\n",
       "      <td>3.100000e+01</td>\n",
       "      <td>7.000000e+00</td>\n",
       "      <td>2.400000e+03</td>\n",
       "      <td>2.359000e+03</td>\n",
       "      <td>2.400000e+03</td>\n",
       "      <td>2.400000e+03</td>\n",
       "      <td>9.743000e+03</td>\n",
       "      <td>1.379000e+03</td>\n",
       "      <td>...</td>\n",
       "      <td>4.962000e+03</td>\n",
       "      <td>3.080000e+02</td>\n",
       "      <td>4.290000e+02</td>\n",
       "      <td>1.000000e+00</td>\n",
       "      <td>1.000000e+00</td>\n",
       "      <td>2.436000e+03</td>\n",
       "      <td>1.352000e+03</td>\n",
       "      <td>1.357000e+03</td>\n",
       "      <td>3.920000e+02</td>\n",
       "      <td>1.316000e+03</td>\n",
       "    </tr>\n",
       "  </tbody>\n",
       "</table>\n",
       "<p>8 rows × 24 columns</p>\n",
       "</div>"
      ],
      "text/plain": [
       "            Year         Month    DayofMonth     DayOfWeek       DepTime  \\\n",
       "count  7009728.0  7.009728e+06  7.009728e+06  7.009728e+06  6.873482e+06   \n",
       "mean      2008.0  6.375130e+00  1.572801e+01  3.924182e+00  1.333830e+03   \n",
       "std          0.0  3.406737e+00  8.797068e+00  1.988259e+00  4.780689e+02   \n",
       "min       2008.0  1.000000e+00  1.000000e+00  1.000000e+00  1.000000e+00   \n",
       "25%       2008.0  3.000000e+00  8.000000e+00  2.000000e+00  9.280000e+02   \n",
       "50%       2008.0  6.000000e+00  1.600000e+01  4.000000e+00  1.325000e+03   \n",
       "75%       2008.0  9.000000e+00  2.300000e+01  6.000000e+00  1.728000e+03   \n",
       "max       2008.0  1.200000e+01  3.100000e+01  7.000000e+00  2.400000e+03   \n",
       "\n",
       "         CRSDepTime       ArrTime    CRSArrTime     FlightNum  \\\n",
       "count  7.009728e+06  6.858079e+06  7.009728e+06  7.009728e+06   \n",
       "mean   1.326086e+03  1.481258e+03  1.494801e+03  2.224200e+03   \n",
       "std    4.642509e+02  5.052251e+02  4.826728e+02  1.961716e+03   \n",
       "min    0.000000e+00  1.000000e+00  0.000000e+00  1.000000e+00   \n",
       "25%    9.250000e+02  1.107000e+03  1.115000e+03  6.220000e+02   \n",
       "50%    1.320000e+03  1.512000e+03  1.517000e+03  1.571000e+03   \n",
       "75%    1.715000e+03  1.909000e+03  1.907000e+03  3.518000e+03   \n",
       "max    2.359000e+03  2.400000e+03  2.400000e+03  9.743000e+03   \n",
       "\n",
       "       ActualElapsedTime  ...      Distance        TaxiIn       TaxiOut  \\\n",
       "count       6.855029e+06  ...  7.009728e+06  6.858079e+06  6.872670e+06   \n",
       "mean        1.273224e+02  ...  7.263870e+02  6.860852e+00  1.645305e+01   \n",
       "std         7.018731e+01  ...  5.621018e+02  4.933649e+00  1.133280e+01   \n",
       "min         1.200000e+01  ...  1.100000e+01  0.000000e+00  0.000000e+00   \n",
       "25%         7.700000e+01  ...  3.250000e+02  4.000000e+00  1.000000e+01   \n",
       "50%         1.100000e+02  ...  5.810000e+02  6.000000e+00  1.400000e+01   \n",
       "75%         1.570000e+02  ...  9.540000e+02  8.000000e+00  1.900000e+01   \n",
       "max         1.379000e+03  ...  4.962000e+03  3.080000e+02  4.290000e+02   \n",
       "\n",
       "          Cancelled      Diverted  CarrierDelay  WeatherDelay      NASDelay  \\\n",
       "count  7.009728e+06  7.009728e+06  1.524735e+06  1.524735e+06  1.524735e+06   \n",
       "mean   1.960618e-02  2.463006e-03  1.577206e+01  3.039031e+00  1.716462e+01   \n",
       "std    1.386426e-01  4.956753e-02  4.009912e+01  1.950287e+01  3.189495e+01   \n",
       "min    0.000000e+00  0.000000e+00  0.000000e+00  0.000000e+00  0.000000e+00   \n",
       "25%    0.000000e+00  0.000000e+00  0.000000e+00  0.000000e+00  0.000000e+00   \n",
       "50%    0.000000e+00  0.000000e+00  0.000000e+00  0.000000e+00  6.000000e+00   \n",
       "75%    0.000000e+00  0.000000e+00  1.600000e+01  0.000000e+00  2.100000e+01   \n",
       "max    1.000000e+00  1.000000e+00  2.436000e+03  1.352000e+03  1.357000e+03   \n",
       "\n",
       "       SecurityDelay  LateAircraftDelay  \n",
       "count   1.524735e+06       1.524735e+06  \n",
       "mean    7.497434e-02       2.077098e+01  \n",
       "std     1.837940e+00       3.925964e+01  \n",
       "min     0.000000e+00       0.000000e+00  \n",
       "25%     0.000000e+00       0.000000e+00  \n",
       "50%     0.000000e+00       0.000000e+00  \n",
       "75%     0.000000e+00       2.600000e+01  \n",
       "max     3.920000e+02       1.316000e+03  \n",
       "\n",
       "[8 rows x 24 columns]"
      ]
     },
     "execution_count": 6,
     "metadata": {},
     "output_type": "execute_result"
    }
   ],
   "source": [
    "# check summary statistics\n",
    "df.describe()"
   ]
  },
  {
   "cell_type": "code",
   "execution_count": 7,
   "metadata": {},
   "outputs": [
    {
     "data": {
      "text/plain": [
       "Year                       0\n",
       "Month                      0\n",
       "DayofMonth                 0\n",
       "DayOfWeek                  0\n",
       "DepTime               136246\n",
       "CRSDepTime                 0\n",
       "ArrTime               151649\n",
       "CRSArrTime                 0\n",
       "UniqueCarrier              0\n",
       "FlightNum                  0\n",
       "TailNum                83365\n",
       "ActualElapsedTime     154699\n",
       "CRSElapsedTime           844\n",
       "AirTime               154699\n",
       "ArrDelay              154699\n",
       "DepDelay              136246\n",
       "Origin                     0\n",
       "Dest                       0\n",
       "Distance                   0\n",
       "TaxiIn                151649\n",
       "TaxiOut               137058\n",
       "Cancelled                  0\n",
       "CancellationCode     6872294\n",
       "Diverted                   0\n",
       "CarrierDelay         5484993\n",
       "WeatherDelay         5484993\n",
       "NASDelay             5484993\n",
       "SecurityDelay        5484993\n",
       "LateAircraftDelay    5484993\n",
       "dtype: int64"
      ]
     },
     "execution_count": 7,
     "metadata": {},
     "output_type": "execute_result"
    }
   ],
   "source": [
    "# check null\n",
    "df.isna().sum()"
   ]
  },
  {
   "cell_type": "code",
   "execution_count": 8,
   "metadata": {},
   "outputs": [
    {
     "data": {
      "text/plain": [
       "Index(['Year', 'Month', 'DayofMonth', 'DayOfWeek', 'DepTime', 'CRSDepTime',\n",
       "       'ArrTime', 'CRSArrTime', 'UniqueCarrier', 'FlightNum', 'TailNum',\n",
       "       'ActualElapsedTime', 'CRSElapsedTime', 'AirTime', 'ArrDelay',\n",
       "       'DepDelay', 'Origin', 'Dest', 'Distance', 'TaxiIn', 'TaxiOut',\n",
       "       'Cancelled', 'CancellationCode', 'Diverted', 'CarrierDelay',\n",
       "       'WeatherDelay', 'NASDelay', 'SecurityDelay', 'LateAircraftDelay'],\n",
       "      dtype='object')"
      ]
     },
     "execution_count": 8,
     "metadata": {},
     "output_type": "execute_result"
    }
   ],
   "source": [
    "# check columns name\n",
    "df.columns"
   ]
  },
  {
   "cell_type": "markdown",
   "metadata": {},
   "source": [
    "### Variable descriptions\n",
    "\n",
    " - **Year**:     2004 - 2008\n",
    " - **Month**\t           1-12\n",
    " - **DayofMonth**\t       1-31\n",
    " - **DayOfWeek**     \t   1 (Monday) - 7 (Sunday)\n",
    " - **DepTime**\t          actual departure time (local, hhmm)\n",
    " - **CRSDepTime** \t       scheduled departure time (local, hhmm) X\n",
    " - **ArrTime** \t       actual arrival time (local, hhmm)\n",
    " - **CRSArrTime**\t       scheduled arrival time (local, hhmm)  X\n",
    " - **UniqueCarrier**\t   unique carrier code                   X        \n",
    " - **FlightNum**\t       flight number                         X\n",
    " - **TailNum**\t           plane tail number                     X\n",
    " - **ActualElapsedTime**  in minutes\n",
    " - **CRSElapsedTime**\t   in minutes\n",
    " - **AirTime**\t           in minutes\n",
    " - **ArrDelay**\t       arrival delay, in minutes\n",
    " - **DepDelay**\t       departure delay, in minutes\n",
    " - **Origin**           origin IATA airport code\n",
    " - **Dest**\t           destination IATA airport code\n",
    " - **Distance**\t       in miles\n",
    " - **TaxiIn**\t           taxi in time, in minutes\n",
    " - **TaxiOut**\t           taxi out time in minutes\n",
    " - **Cancelled**\t       was the flight cancelled?\n",
    " - **CancellationCode**   reason for cancellation (A = carrier, B = weather, C = NAS, D = security)\n",
    " - **Diverted**\t       1 = yes, 0 = no\n",
    " - **CarrierDelay**\t   in minutes\n",
    " - **WeatherDelay**\t   in minutes\n",
    " - **NASDelay**\t       in minutes\n",
    " - **SecurityDelay**\t   in minutes\n",
    " - **LateAircraftDelay**  in minutes\n"
   ]
  },
  {
   "cell_type": "code",
   "execution_count": 9,
   "metadata": {},
   "outputs": [
    {
     "name": "stdout",
     "output_type": "stream",
     "text": [
      "<class 'pandas.core.frame.DataFrame'>\n",
      "RangeIndex: 7009728 entries, 0 to 7009727\n",
      "Data columns (total 29 columns):\n",
      "Year                 int64\n",
      "Month                int64\n",
      "DayofMonth           int64\n",
      "DayOfWeek            int64\n",
      "DepTime              float64\n",
      "CRSDepTime           int64\n",
      "ArrTime              float64\n",
      "CRSArrTime           int64\n",
      "UniqueCarrier        object\n",
      "FlightNum            int64\n",
      "TailNum              object\n",
      "ActualElapsedTime    float64\n",
      "CRSElapsedTime       float64\n",
      "AirTime              float64\n",
      "ArrDelay             float64\n",
      "DepDelay             float64\n",
      "Origin               object\n",
      "Dest                 object\n",
      "Distance             int64\n",
      "TaxiIn               float64\n",
      "TaxiOut              float64\n",
      "Cancelled            int64\n",
      "CancellationCode     object\n",
      "Diverted             int64\n",
      "CarrierDelay         float64\n",
      "WeatherDelay         float64\n",
      "NASDelay             float64\n",
      "SecurityDelay        float64\n",
      "LateAircraftDelay    float64\n",
      "dtypes: float64(14), int64(10), object(5)\n",
      "memory usage: 1.5+ GB\n"
     ]
    }
   ],
   "source": [
    "df.info()"
   ]
  },
  {
   "cell_type": "code",
   "execution_count": 10,
   "metadata": {},
   "outputs": [
    {
     "data": {
      "text/plain": [
       "Cancelled\n",
       "0    6872294\n",
       "1     137434\n",
       "dtype: int64"
      ]
     },
     "execution_count": 10,
     "metadata": {},
     "output_type": "execute_result"
    }
   ],
   "source": [
    "# check cancelled values und total no. for each\n",
    "df.groupby(\"Cancelled\").size().sort_values(ascending=False)"
   ]
  },
  {
   "cell_type": "code",
   "execution_count": 11,
   "metadata": {},
   "outputs": [
    {
     "data": {
      "text/plain": [
       "CancellationCode\n",
       "B    54904\n",
       "A    54330\n",
       "C    28188\n",
       "D       12\n",
       "dtype: int64"
      ]
     },
     "execution_count": 11,
     "metadata": {},
     "output_type": "execute_result"
    }
   ],
   "source": [
    "df.groupby(\"CancellationCode\").size().sort_values(ascending=False)"
   ]
  },
  {
   "cell_type": "code",
   "execution_count": 12,
   "metadata": {},
   "outputs": [
    {
     "data": {
      "text/plain": [
       "Diverted\n",
       "0    6992463\n",
       "1      17265\n",
       "dtype: int64"
      ]
     },
     "execution_count": 12,
     "metadata": {},
     "output_type": "execute_result"
    }
   ],
   "source": [
    "df.groupby(\"Diverted\").size().sort_values(ascending=False)"
   ]
  },
  {
   "cell_type": "markdown",
   "metadata": {},
   "source": [
    "## What is the structure of your dataset? \n",
    "\n",
    "> There are 7009728 observations in total in 2008. A number of columns is 29 for the data set. Before we start analyzing data, data cleaning is essential.\n",
    "Following points should be checked in the data set.\n",
    "<p></p>\n",
    "\n",
    "### Quality issue\n",
    "\n",
    "- missing value for DepTime and ArrTime as well as ArrDelay and DepDelay\n",
    "- missing CancellationCode\n",
    "- missing CarrierDelay, WeatherDelay, NASDelay, SecurityDelay and LateAircraftDelay\n",
    "- Cancelled is int64\n",
    "- CancellationCode is object\n",
    "- Year, Month, DayofMonth and DayOfWeek are int\n",
    "- DepTime, ArrTime are float64\n",
    "- ArrDelay, DepDelay are float64\n",
    "- CarrierDelay, WeatherDelay, NASDelay, SecurityDelay and LateAircraftDelay are float64\n",
    "  \n",
    "### Structure issue\n",
    "\n",
    "- There are un necessary columns\n"
   ]
  },
  {
   "cell_type": "markdown",
   "metadata": {},
   "source": [
    "## Cleaning\n",
    "### Define\n",
    "- Add date Column"
   ]
  },
  {
   "cell_type": "markdown",
   "metadata": {},
   "source": [
    "### Code"
   ]
  },
  {
   "cell_type": "code",
   "execution_count": 168,
   "metadata": {},
   "outputs": [],
   "source": [
    "df['Date'] = pd.to_datetime(df.Year*10000+df.Month*100+df.DayofMonth,format='%Y%m%d')"
   ]
  },
  {
   "cell_type": "markdown",
   "metadata": {},
   "source": [
    "### Test"
   ]
  },
  {
   "cell_type": "code",
   "execution_count": 14,
   "metadata": {},
   "outputs": [
    {
     "data": {
      "text/html": [
       "<div>\n",
       "<style scoped>\n",
       "    .dataframe tbody tr th:only-of-type {\n",
       "        vertical-align: middle;\n",
       "    }\n",
       "\n",
       "    .dataframe tbody tr th {\n",
       "        vertical-align: top;\n",
       "    }\n",
       "\n",
       "    .dataframe thead th {\n",
       "        text-align: right;\n",
       "    }\n",
       "</style>\n",
       "<table border=\"1\" class=\"dataframe\">\n",
       "  <thead>\n",
       "    <tr style=\"text-align: right;\">\n",
       "      <th></th>\n",
       "      <th>Year</th>\n",
       "      <th>Month</th>\n",
       "      <th>DayofMonth</th>\n",
       "      <th>DayOfWeek</th>\n",
       "      <th>DepTime</th>\n",
       "      <th>CRSDepTime</th>\n",
       "      <th>ArrTime</th>\n",
       "      <th>CRSArrTime</th>\n",
       "      <th>UniqueCarrier</th>\n",
       "      <th>FlightNum</th>\n",
       "      <th>...</th>\n",
       "      <th>TaxiOut</th>\n",
       "      <th>Cancelled</th>\n",
       "      <th>CancellationCode</th>\n",
       "      <th>Diverted</th>\n",
       "      <th>CarrierDelay</th>\n",
       "      <th>WeatherDelay</th>\n",
       "      <th>NASDelay</th>\n",
       "      <th>SecurityDelay</th>\n",
       "      <th>LateAircraftDelay</th>\n",
       "      <th>Date</th>\n",
       "    </tr>\n",
       "  </thead>\n",
       "  <tbody>\n",
       "    <tr>\n",
       "      <th>0</th>\n",
       "      <td>2008</td>\n",
       "      <td>1</td>\n",
       "      <td>3</td>\n",
       "      <td>4</td>\n",
       "      <td>2003.0</td>\n",
       "      <td>1955</td>\n",
       "      <td>2211.0</td>\n",
       "      <td>2225</td>\n",
       "      <td>WN</td>\n",
       "      <td>335</td>\n",
       "      <td>...</td>\n",
       "      <td>8.0</td>\n",
       "      <td>0</td>\n",
       "      <td>NaN</td>\n",
       "      <td>0</td>\n",
       "      <td>NaN</td>\n",
       "      <td>NaN</td>\n",
       "      <td>NaN</td>\n",
       "      <td>NaN</td>\n",
       "      <td>NaN</td>\n",
       "      <td>2008-01-03</td>\n",
       "    </tr>\n",
       "    <tr>\n",
       "      <th>1</th>\n",
       "      <td>2008</td>\n",
       "      <td>1</td>\n",
       "      <td>3</td>\n",
       "      <td>4</td>\n",
       "      <td>754.0</td>\n",
       "      <td>735</td>\n",
       "      <td>1002.0</td>\n",
       "      <td>1000</td>\n",
       "      <td>WN</td>\n",
       "      <td>3231</td>\n",
       "      <td>...</td>\n",
       "      <td>10.0</td>\n",
       "      <td>0</td>\n",
       "      <td>NaN</td>\n",
       "      <td>0</td>\n",
       "      <td>NaN</td>\n",
       "      <td>NaN</td>\n",
       "      <td>NaN</td>\n",
       "      <td>NaN</td>\n",
       "      <td>NaN</td>\n",
       "      <td>2008-01-03</td>\n",
       "    </tr>\n",
       "  </tbody>\n",
       "</table>\n",
       "<p>2 rows × 30 columns</p>\n",
       "</div>"
      ],
      "text/plain": [
       "   Year  Month  DayofMonth  DayOfWeek  DepTime  CRSDepTime  ArrTime  \\\n",
       "0  2008      1           3          4   2003.0        1955   2211.0   \n",
       "1  2008      1           3          4    754.0         735   1002.0   \n",
       "\n",
       "   CRSArrTime UniqueCarrier  FlightNum  ... TaxiOut  Cancelled  \\\n",
       "0        2225            WN        335  ...     8.0          0   \n",
       "1        1000            WN       3231  ...    10.0          0   \n",
       "\n",
       "   CancellationCode  Diverted  CarrierDelay  WeatherDelay NASDelay  \\\n",
       "0               NaN         0           NaN           NaN      NaN   \n",
       "1               NaN         0           NaN           NaN      NaN   \n",
       "\n",
       "  SecurityDelay  LateAircraftDelay       Date  \n",
       "0           NaN                NaN 2008-01-03  \n",
       "1           NaN                NaN 2008-01-03  \n",
       "\n",
       "[2 rows x 30 columns]"
      ]
     },
     "execution_count": 14,
     "metadata": {},
     "output_type": "execute_result"
    }
   ],
   "source": [
    "df.head(2)"
   ]
  },
  {
   "cell_type": "code",
   "execution_count": 15,
   "metadata": {},
   "outputs": [
    {
     "name": "stdout",
     "output_type": "stream",
     "text": [
      "<class 'pandas.core.frame.DataFrame'>\n",
      "RangeIndex: 7009728 entries, 0 to 7009727\n",
      "Data columns (total 30 columns):\n",
      "Year                 int64\n",
      "Month                int64\n",
      "DayofMonth           int64\n",
      "DayOfWeek            int64\n",
      "DepTime              float64\n",
      "CRSDepTime           int64\n",
      "ArrTime              float64\n",
      "CRSArrTime           int64\n",
      "UniqueCarrier        object\n",
      "FlightNum            int64\n",
      "TailNum              object\n",
      "ActualElapsedTime    float64\n",
      "CRSElapsedTime       float64\n",
      "AirTime              float64\n",
      "ArrDelay             float64\n",
      "DepDelay             float64\n",
      "Origin               object\n",
      "Dest                 object\n",
      "Distance             int64\n",
      "TaxiIn               float64\n",
      "TaxiOut              float64\n",
      "Cancelled            int64\n",
      "CancellationCode     object\n",
      "Diverted             int64\n",
      "CarrierDelay         float64\n",
      "WeatherDelay         float64\n",
      "NASDelay             float64\n",
      "SecurityDelay        float64\n",
      "LateAircraftDelay    float64\n",
      "Date                 datetime64[ns]\n",
      "dtypes: datetime64[ns](1), float64(14), int64(10), object(5)\n",
      "memory usage: 1.6+ GB\n"
     ]
    }
   ],
   "source": [
    "df.info()"
   ]
  },
  {
   "cell_type": "code",
   "execution_count": 16,
   "metadata": {},
   "outputs": [
    {
     "name": "stdout",
     "output_type": "stream",
     "text": [
      "<class 'pandas.core.frame.DataFrame'>\n",
      "RangeIndex: 7009728 entries, 0 to 7009727\n",
      "Data columns (total 30 columns):\n",
      "Year                 7009728 non-null int64\n",
      "Month                7009728 non-null int64\n",
      "DayofMonth           7009728 non-null int64\n",
      "DayOfWeek            7009728 non-null int64\n",
      "DepTime              6873482 non-null float64\n",
      "CRSDepTime           7009728 non-null int64\n",
      "ArrTime              6858079 non-null float64\n",
      "CRSArrTime           7009728 non-null int64\n",
      "UniqueCarrier        7009728 non-null object\n",
      "FlightNum            7009728 non-null int64\n",
      "TailNum              6926363 non-null object\n",
      "ActualElapsedTime    6855029 non-null float64\n",
      "CRSElapsedTime       7008884 non-null float64\n",
      "AirTime              6855029 non-null float64\n",
      "ArrDelay             6855029 non-null float64\n",
      "DepDelay             6873482 non-null float64\n",
      "Origin               7009728 non-null object\n",
      "Dest                 7009728 non-null object\n",
      "Distance             7009728 non-null int64\n",
      "TaxiIn               6858079 non-null float64\n",
      "TaxiOut              6872670 non-null float64\n",
      "Cancelled            7009728 non-null int64\n",
      "CancellationCode     137434 non-null object\n",
      "Diverted             7009728 non-null int64\n",
      "CarrierDelay         1524735 non-null float64\n",
      "WeatherDelay         1524735 non-null float64\n",
      "NASDelay             1524735 non-null float64\n",
      "SecurityDelay        1524735 non-null float64\n",
      "LateAircraftDelay    1524735 non-null float64\n",
      "Date                 7009728 non-null datetime64[ns]\n",
      "dtypes: datetime64[ns](1), float64(14), int64(10), object(5)\n",
      "memory usage: 1.6+ GB\n"
     ]
    }
   ],
   "source": [
    "df.info(null_counts=True)"
   ]
  },
  {
   "cell_type": "markdown",
   "metadata": {},
   "source": [
    "### Define\n",
    "- convert CancellationCode into ordered categorical types"
   ]
  },
  {
   "cell_type": "markdown",
   "metadata": {},
   "source": [
    "### Code"
   ]
  },
  {
   "cell_type": "code",
   "execution_count": 17,
   "metadata": {},
   "outputs": [],
   "source": [
    "CancellationCode_dict = {'CancellationCode': ['A','B','C','D']}\n",
    "\n",
    "for var in CancellationCode_dict:\n",
    "    CancellationCode_var = pd.api.types.CategoricalDtype(ordered = True,categories = CancellationCode_dict[var])\n",
    "    df[var] = df[var].astype(CancellationCode_var)"
   ]
  },
  {
   "cell_type": "markdown",
   "metadata": {},
   "source": [
    "### Test"
   ]
  },
  {
   "cell_type": "code",
   "execution_count": 18,
   "metadata": {
    "scrolled": false
   },
   "outputs": [
    {
     "name": "stdout",
     "output_type": "stream",
     "text": [
      "<class 'pandas.core.frame.DataFrame'>\n",
      "RangeIndex: 7009728 entries, 0 to 7009727\n",
      "Data columns (total 30 columns):\n",
      "Year                 int64\n",
      "Month                int64\n",
      "DayofMonth           int64\n",
      "DayOfWeek            int64\n",
      "DepTime              float64\n",
      "CRSDepTime           int64\n",
      "ArrTime              float64\n",
      "CRSArrTime           int64\n",
      "UniqueCarrier        object\n",
      "FlightNum            int64\n",
      "TailNum              object\n",
      "ActualElapsedTime    float64\n",
      "CRSElapsedTime       float64\n",
      "AirTime              float64\n",
      "ArrDelay             float64\n",
      "DepDelay             float64\n",
      "Origin               object\n",
      "Dest                 object\n",
      "Distance             int64\n",
      "TaxiIn               float64\n",
      "TaxiOut              float64\n",
      "Cancelled            int64\n",
      "CancellationCode     category\n",
      "Diverted             int64\n",
      "CarrierDelay         float64\n",
      "WeatherDelay         float64\n",
      "NASDelay             float64\n",
      "SecurityDelay        float64\n",
      "LateAircraftDelay    float64\n",
      "Date                 datetime64[ns]\n",
      "dtypes: category(1), datetime64[ns](1), float64(14), int64(10), object(4)\n",
      "memory usage: 1.5+ GB\n"
     ]
    }
   ],
   "source": [
    "df.info()"
   ]
  },
  {
   "cell_type": "markdown",
   "metadata": {},
   "source": [
    "### Define\n",
    "- Create a data set for cancelled flight\n",
    "- Create a column to describe the CancellationCode\n",
    "- Change Cancelled column Type from Int to Boolean"
   ]
  },
  {
   "cell_type": "code",
   "execution_count": 19,
   "metadata": {},
   "outputs": [],
   "source": [
    "# create a copy of the dataset only for cancelled flights\n",
    "df_cancelled = df.copy()\n",
    "df_cancelled.drop(['DepTime','CRSDepTime','ArrTime', 'CRSArrTime',\n",
    "                   'UniqueCarrier', 'FlightNum', 'TailNum','ActualElapsedTime', \n",
    "                   'CRSElapsedTime', 'AirTime', 'ArrDelay','DepDelay', 'Origin', \n",
    "                   'Dest', 'Distance', 'TaxiIn', 'TaxiOut','Diverted', 'CarrierDelay',\n",
    "                   'WeatherDelay', 'NASDelay', 'SecurityDelay', 'LateAircraftDelay'], axis=1, inplace=True)"
   ]
  },
  {
   "cell_type": "code",
   "execution_count": 20,
   "metadata": {},
   "outputs": [],
   "source": [
    "# Create a column to describe the CancellationCode\n",
    "df_cancelled['Cancellation_Desc'] = df_cancelled.CancellationCode.map({'A':'Carrier', 'B':'Weather', 'C':'NAS', 'D':'Security'})"
   ]
  },
  {
   "cell_type": "code",
   "execution_count": 21,
   "metadata": {},
   "outputs": [],
   "source": [
    "df_cancelled['Cancelled'] = df_cancelled['Cancelled'].astype('bool')"
   ]
  },
  {
   "cell_type": "markdown",
   "metadata": {},
   "source": [
    "### Test"
   ]
  },
  {
   "cell_type": "code",
   "execution_count": 22,
   "metadata": {},
   "outputs": [],
   "source": [
    "# View the dataset\n",
    "#df_cancelled.query(\"Cancelled == 1 \")"
   ]
  },
  {
   "cell_type": "code",
   "execution_count": 23,
   "metadata": {},
   "outputs": [
    {
     "data": {
      "text/html": [
       "<div>\n",
       "<style scoped>\n",
       "    .dataframe tbody tr th:only-of-type {\n",
       "        vertical-align: middle;\n",
       "    }\n",
       "\n",
       "    .dataframe tbody tr th {\n",
       "        vertical-align: top;\n",
       "    }\n",
       "\n",
       "    .dataframe thead th {\n",
       "        text-align: right;\n",
       "    }\n",
       "</style>\n",
       "<table border=\"1\" class=\"dataframe\">\n",
       "  <thead>\n",
       "    <tr style=\"text-align: right;\">\n",
       "      <th></th>\n",
       "      <th>Year</th>\n",
       "      <th>Month</th>\n",
       "      <th>DayofMonth</th>\n",
       "      <th>DayOfWeek</th>\n",
       "      <th>Cancelled</th>\n",
       "      <th>CancellationCode</th>\n",
       "      <th>Date</th>\n",
       "      <th>Cancellation_Desc</th>\n",
       "    </tr>\n",
       "  </thead>\n",
       "  <tbody>\n",
       "    <tr>\n",
       "      <th>0</th>\n",
       "      <td>2008</td>\n",
       "      <td>1</td>\n",
       "      <td>3</td>\n",
       "      <td>4</td>\n",
       "      <td>False</td>\n",
       "      <td>NaN</td>\n",
       "      <td>2008-01-03</td>\n",
       "      <td>NaN</td>\n",
       "    </tr>\n",
       "    <tr>\n",
       "      <th>1</th>\n",
       "      <td>2008</td>\n",
       "      <td>1</td>\n",
       "      <td>3</td>\n",
       "      <td>4</td>\n",
       "      <td>False</td>\n",
       "      <td>NaN</td>\n",
       "      <td>2008-01-03</td>\n",
       "      <td>NaN</td>\n",
       "    </tr>\n",
       "  </tbody>\n",
       "</table>\n",
       "</div>"
      ],
      "text/plain": [
       "   Year  Month  DayofMonth  DayOfWeek  Cancelled CancellationCode       Date  \\\n",
       "0  2008      1           3          4      False              NaN 2008-01-03   \n",
       "1  2008      1           3          4      False              NaN 2008-01-03   \n",
       "\n",
       "  Cancellation_Desc  \n",
       "0               NaN  \n",
       "1               NaN  "
      ]
     },
     "execution_count": 23,
     "metadata": {},
     "output_type": "execute_result"
    }
   ],
   "source": [
    "df_cancelled.head(2)"
   ]
  },
  {
   "cell_type": "code",
   "execution_count": 24,
   "metadata": {},
   "outputs": [
    {
     "data": {
      "text/plain": [
       "(7009728, 8)"
      ]
     },
     "execution_count": 24,
     "metadata": {},
     "output_type": "execute_result"
    }
   ],
   "source": [
    "df_cancelled.shape"
   ]
  },
  {
   "cell_type": "code",
   "execution_count": 25,
   "metadata": {},
   "outputs": [
    {
     "name": "stdout",
     "output_type": "stream",
     "text": [
      "<class 'pandas.core.frame.DataFrame'>\n",
      "RangeIndex: 7009728 entries, 0 to 7009727\n",
      "Data columns (total 8 columns):\n",
      "Year                 int64\n",
      "Month                int64\n",
      "DayofMonth           int64\n",
      "DayOfWeek            int64\n",
      "Cancelled            bool\n",
      "CancellationCode     category\n",
      "Date                 datetime64[ns]\n",
      "Cancellation_Desc    object\n",
      "dtypes: bool(1), category(1), datetime64[ns](1), int64(4), object(1)\n",
      "memory usage: 334.3+ MB\n"
     ]
    }
   ],
   "source": [
    "df_cancelled.info()"
   ]
  },
  {
   "cell_type": "markdown",
   "metadata": {},
   "source": [
    "### Define\n",
    "- Create a data set for Diverted flight\n",
    "- Create a column to describe the CancellationCode\n",
    "- Change Diverted column Type from Int to Boolean"
   ]
  },
  {
   "cell_type": "markdown",
   "metadata": {},
   "source": [
    "### Code"
   ]
  },
  {
   "cell_type": "code",
   "execution_count": 26,
   "metadata": {},
   "outputs": [],
   "source": [
    "# create a copy of the dataset only for Diverted flights and delete un necessary columns\n",
    "df_diverted = df.copy()\n",
    "df_diverted.drop(['DepTime', 'CRSDepTime','ArrTime', 'CRSArrTime', 'UniqueCarrier', 'FlightNum', 'TailNum','ActualElapsedTime', 'CRSElapsedTime', 'AirTime', 'ArrDelay','DepDelay', 'Origin', 'Dest', 'Distance', 'TaxiIn', 'TaxiOut','Cancelled', 'CancellationCode', 'CarrierDelay','WeatherDelay', 'NASDelay', 'SecurityDelay', 'LateAircraftDelay'], axis=1, inplace=True)"
   ]
  },
  {
   "cell_type": "code",
   "execution_count": 27,
   "metadata": {},
   "outputs": [],
   "source": [
    "df_diverted['Diverted'] = df_diverted['Diverted'].astype('bool')"
   ]
  },
  {
   "cell_type": "markdown",
   "metadata": {},
   "source": [
    "### Test"
   ]
  },
  {
   "cell_type": "code",
   "execution_count": 28,
   "metadata": {},
   "outputs": [
    {
     "data": {
      "text/html": [
       "<div>\n",
       "<style scoped>\n",
       "    .dataframe tbody tr th:only-of-type {\n",
       "        vertical-align: middle;\n",
       "    }\n",
       "\n",
       "    .dataframe tbody tr th {\n",
       "        vertical-align: top;\n",
       "    }\n",
       "\n",
       "    .dataframe thead th {\n",
       "        text-align: right;\n",
       "    }\n",
       "</style>\n",
       "<table border=\"1\" class=\"dataframe\">\n",
       "  <thead>\n",
       "    <tr style=\"text-align: right;\">\n",
       "      <th></th>\n",
       "      <th>Year</th>\n",
       "      <th>Month</th>\n",
       "      <th>DayofMonth</th>\n",
       "      <th>DayOfWeek</th>\n",
       "      <th>Diverted</th>\n",
       "      <th>Date</th>\n",
       "    </tr>\n",
       "  </thead>\n",
       "  <tbody>\n",
       "    <tr>\n",
       "      <th>6938378</th>\n",
       "      <td>2008</td>\n",
       "      <td>12</td>\n",
       "      <td>29</td>\n",
       "      <td>1</td>\n",
       "      <td>False</td>\n",
       "      <td>2008-12-29</td>\n",
       "    </tr>\n",
       "    <tr>\n",
       "      <th>6473009</th>\n",
       "      <td>2008</td>\n",
       "      <td>12</td>\n",
       "      <td>5</td>\n",
       "      <td>5</td>\n",
       "      <td>False</td>\n",
       "      <td>2008-12-05</td>\n",
       "    </tr>\n",
       "  </tbody>\n",
       "</table>\n",
       "</div>"
      ],
      "text/plain": [
       "         Year  Month  DayofMonth  DayOfWeek  Diverted       Date\n",
       "6938378  2008     12          29          1     False 2008-12-29\n",
       "6473009  2008     12           5          5     False 2008-12-05"
      ]
     },
     "execution_count": 28,
     "metadata": {},
     "output_type": "execute_result"
    }
   ],
   "source": [
    "df_diverted.sample(2)"
   ]
  },
  {
   "cell_type": "code",
   "execution_count": 29,
   "metadata": {},
   "outputs": [
    {
     "name": "stdout",
     "output_type": "stream",
     "text": [
      "<class 'pandas.core.frame.DataFrame'>\n",
      "RangeIndex: 7009728 entries, 0 to 7009727\n",
      "Data columns (total 6 columns):\n",
      "Year          int64\n",
      "Month         int64\n",
      "DayofMonth    int64\n",
      "DayOfWeek     int64\n",
      "Diverted      bool\n",
      "Date          datetime64[ns]\n",
      "dtypes: bool(1), datetime64[ns](1), int64(4)\n",
      "memory usage: 274.1 MB\n"
     ]
    }
   ],
   "source": [
    "df_diverted.info()"
   ]
  },
  {
   "cell_type": "code",
   "execution_count": 30,
   "metadata": {},
   "outputs": [
    {
     "data": {
      "text/plain": [
       "Diverted\n",
       "False    6992463\n",
       "True       17265\n",
       "dtype: int64"
      ]
     },
     "execution_count": 30,
     "metadata": {},
     "output_type": "execute_result"
    }
   ],
   "source": [
    "df_diverted.groupby(\"Diverted\").size().sort_values(ascending=False)"
   ]
  },
  {
   "cell_type": "markdown",
   "metadata": {},
   "source": [
    "### Define\n",
    "- Drop un necessary columns: 'CRSArrTime','TailNum','FlightNum', 'TaxiIn', 'TaxiOut','ActualElapsedTime','CRSElapsedTime','AirTime'"
   ]
  },
  {
   "cell_type": "markdown",
   "metadata": {},
   "source": [
    "### Code"
   ]
  },
  {
   "cell_type": "code",
   "execution_count": 169,
   "metadata": {},
   "outputs": [],
   "source": [
    "df_flights =  df.copy()"
   ]
  },
  {
   "cell_type": "code",
   "execution_count": 170,
   "metadata": {},
   "outputs": [],
   "source": [
    "# drop un necessary columns\n",
    "\n",
    "df_flights.drop([ 'CRSArrTime','TailNum', 'FlightNum', 'TaxiIn','TaxiOut', 'ActualElapsedTime','CRSElapsedTime','Cancelled', 'CancellationCode', ], axis=1, inplace=True)"
   ]
  },
  {
   "cell_type": "markdown",
   "metadata": {},
   "source": [
    "### Test"
   ]
  },
  {
   "cell_type": "code",
   "execution_count": 171,
   "metadata": {},
   "outputs": [
    {
     "data": {
      "text/plain": [
       "Index(['Year', 'Month', 'DayofMonth', 'DayOfWeek', 'DepTime', 'CRSDepTime',\n",
       "       'ArrTime', 'UniqueCarrier', 'AirTime', 'ArrDelay', 'DepDelay', 'Origin',\n",
       "       'Dest', 'Distance', 'Diverted', 'CarrierDelay', 'WeatherDelay',\n",
       "       'NASDelay', 'SecurityDelay', 'LateAircraftDelay', 'Date'],\n",
       "      dtype='object')"
      ]
     },
     "execution_count": 171,
     "metadata": {},
     "output_type": "execute_result"
    }
   ],
   "source": [
    "df_flights.columns"
   ]
  },
  {
   "cell_type": "code",
   "execution_count": 172,
   "metadata": {},
   "outputs": [
    {
     "data": {
      "text/plain": [
       "Year                       0\n",
       "Month                      0\n",
       "DayofMonth                 0\n",
       "DayOfWeek                  0\n",
       "DepTime               136246\n",
       "CRSDepTime                 0\n",
       "ArrTime               151649\n",
       "UniqueCarrier              0\n",
       "AirTime               154699\n",
       "ArrDelay              154699\n",
       "DepDelay              136246\n",
       "Origin                     0\n",
       "Dest                       0\n",
       "Distance                   0\n",
       "Diverted                   0\n",
       "CarrierDelay         5484993\n",
       "WeatherDelay         5484993\n",
       "NASDelay             5484993\n",
       "SecurityDelay        5484993\n",
       "LateAircraftDelay    5484993\n",
       "Date                       0\n",
       "dtype: int64"
      ]
     },
     "execution_count": 172,
     "metadata": {},
     "output_type": "execute_result"
    }
   ],
   "source": [
    "df_flights.isna().sum()"
   ]
  },
  {
   "cell_type": "code",
   "execution_count": 173,
   "metadata": {},
   "outputs": [
    {
     "data": {
      "text/html": [
       "<div>\n",
       "<style scoped>\n",
       "    .dataframe tbody tr th:only-of-type {\n",
       "        vertical-align: middle;\n",
       "    }\n",
       "\n",
       "    .dataframe tbody tr th {\n",
       "        vertical-align: top;\n",
       "    }\n",
       "\n",
       "    .dataframe thead th {\n",
       "        text-align: right;\n",
       "    }\n",
       "</style>\n",
       "<table border=\"1\" class=\"dataframe\">\n",
       "  <thead>\n",
       "    <tr style=\"text-align: right;\">\n",
       "      <th></th>\n",
       "      <th>Year</th>\n",
       "      <th>Month</th>\n",
       "      <th>DayofMonth</th>\n",
       "      <th>DayOfWeek</th>\n",
       "      <th>DepTime</th>\n",
       "      <th>CRSDepTime</th>\n",
       "      <th>ArrTime</th>\n",
       "      <th>UniqueCarrier</th>\n",
       "      <th>AirTime</th>\n",
       "      <th>ArrDelay</th>\n",
       "      <th>...</th>\n",
       "      <th>Origin</th>\n",
       "      <th>Dest</th>\n",
       "      <th>Distance</th>\n",
       "      <th>Diverted</th>\n",
       "      <th>CarrierDelay</th>\n",
       "      <th>WeatherDelay</th>\n",
       "      <th>NASDelay</th>\n",
       "      <th>SecurityDelay</th>\n",
       "      <th>LateAircraftDelay</th>\n",
       "      <th>Date</th>\n",
       "    </tr>\n",
       "  </thead>\n",
       "  <tbody>\n",
       "    <tr>\n",
       "      <th>2406088</th>\n",
       "      <td>2008</td>\n",
       "      <td>5</td>\n",
       "      <td>8</td>\n",
       "      <td>4</td>\n",
       "      <td>657.0</td>\n",
       "      <td>655</td>\n",
       "      <td>805.0</td>\n",
       "      <td>WN</td>\n",
       "      <td>54.0</td>\n",
       "      <td>5.0</td>\n",
       "      <td>...</td>\n",
       "      <td>LIT</td>\n",
       "      <td>STL</td>\n",
       "      <td>296</td>\n",
       "      <td>0</td>\n",
       "      <td>NaN</td>\n",
       "      <td>NaN</td>\n",
       "      <td>NaN</td>\n",
       "      <td>NaN</td>\n",
       "      <td>NaN</td>\n",
       "      <td>2008-05-08</td>\n",
       "    </tr>\n",
       "  </tbody>\n",
       "</table>\n",
       "<p>1 rows × 21 columns</p>\n",
       "</div>"
      ],
      "text/plain": [
       "         Year  Month  DayofMonth  DayOfWeek  DepTime  CRSDepTime  ArrTime  \\\n",
       "2406088  2008      5           8          4    657.0         655    805.0   \n",
       "\n",
       "        UniqueCarrier  AirTime  ArrDelay  ...  Origin Dest Distance  Diverted  \\\n",
       "2406088            WN     54.0       5.0  ...     LIT  STL      296         0   \n",
       "\n",
       "         CarrierDelay  WeatherDelay  NASDelay  SecurityDelay  \\\n",
       "2406088           NaN           NaN       NaN            NaN   \n",
       "\n",
       "         LateAircraftDelay       Date  \n",
       "2406088                NaN 2008-05-08  \n",
       "\n",
       "[1 rows x 21 columns]"
      ]
     },
     "execution_count": 173,
     "metadata": {},
     "output_type": "execute_result"
    }
   ],
   "source": [
    "df_flights.sample()"
   ]
  },
  {
   "cell_type": "code",
   "execution_count": 174,
   "metadata": {},
   "outputs": [
    {
     "data": {
      "text/plain": [
       "(7009728, 21)"
      ]
     },
     "execution_count": 174,
     "metadata": {},
     "output_type": "execute_result"
    }
   ],
   "source": [
    "df_flights.shape"
   ]
  },
  {
   "cell_type": "markdown",
   "metadata": {},
   "source": [
    "### Define\n",
    "Manage missing values, Null values from the original dataset"
   ]
  },
  {
   "cell_type": "markdown",
   "metadata": {},
   "source": [
    "### Code"
   ]
  },
  {
   "cell_type": "code",
   "execution_count": 175,
   "metadata": {},
   "outputs": [],
   "source": [
    "df_flights.dropna(subset=['DepTime'], inplace=True) "
   ]
  },
  {
   "cell_type": "code",
   "execution_count": 176,
   "metadata": {},
   "outputs": [
    {
     "data": {
      "text/plain": [
       "(6873482, 21)"
      ]
     },
     "execution_count": 176,
     "metadata": {},
     "output_type": "execute_result"
    }
   ],
   "source": [
    "df_flights.shape"
   ]
  },
  {
   "cell_type": "code",
   "execution_count": 177,
   "metadata": {},
   "outputs": [
    {
     "data": {
      "text/plain": [
       "Year                       0\n",
       "Month                      0\n",
       "DayofMonth                 0\n",
       "DayOfWeek                  0\n",
       "DepTime                    0\n",
       "CRSDepTime                 0\n",
       "ArrTime                15403\n",
       "UniqueCarrier              0\n",
       "AirTime                18453\n",
       "ArrDelay               18453\n",
       "DepDelay                   0\n",
       "Origin                     0\n",
       "Dest                       0\n",
       "Distance                   0\n",
       "Diverted                   0\n",
       "CarrierDelay         5348747\n",
       "WeatherDelay         5348747\n",
       "NASDelay             5348747\n",
       "SecurityDelay        5348747\n",
       "LateAircraftDelay    5348747\n",
       "Date                       0\n",
       "dtype: int64"
      ]
     },
     "execution_count": 177,
     "metadata": {},
     "output_type": "execute_result"
    }
   ],
   "source": [
    "df_flights.isna().sum()"
   ]
  },
  {
   "cell_type": "code",
   "execution_count": 178,
   "metadata": {},
   "outputs": [],
   "source": [
    "df_flights.dropna(subset=['ArrTime'], inplace=True) "
   ]
  },
  {
   "cell_type": "code",
   "execution_count": 179,
   "metadata": {},
   "outputs": [
    {
     "data": {
      "text/plain": [
       "Year                       0\n",
       "Month                      0\n",
       "DayofMonth                 0\n",
       "DayOfWeek                  0\n",
       "DepTime                    0\n",
       "CRSDepTime                 0\n",
       "ArrTime                    0\n",
       "UniqueCarrier              0\n",
       "AirTime                 3050\n",
       "ArrDelay                3050\n",
       "DepDelay                   0\n",
       "Origin                     0\n",
       "Dest                       0\n",
       "Distance                   0\n",
       "Diverted                   0\n",
       "CarrierDelay         5333344\n",
       "WeatherDelay         5333344\n",
       "NASDelay             5333344\n",
       "SecurityDelay        5333344\n",
       "LateAircraftDelay    5333344\n",
       "Date                       0\n",
       "dtype: int64"
      ]
     },
     "execution_count": 179,
     "metadata": {},
     "output_type": "execute_result"
    }
   ],
   "source": [
    "df_flights.isna().sum()"
   ]
  },
  {
   "cell_type": "code",
   "execution_count": 180,
   "metadata": {},
   "outputs": [],
   "source": [
    "df_flights.dropna(subset=['ArrDelay'], inplace=True) "
   ]
  },
  {
   "cell_type": "code",
   "execution_count": 181,
   "metadata": {},
   "outputs": [
    {
     "data": {
      "text/plain": [
       "Year                       0\n",
       "Month                      0\n",
       "DayofMonth                 0\n",
       "DayOfWeek                  0\n",
       "DepTime                    0\n",
       "CRSDepTime                 0\n",
       "ArrTime                    0\n",
       "UniqueCarrier              0\n",
       "AirTime                    0\n",
       "ArrDelay                   0\n",
       "DepDelay                   0\n",
       "Origin                     0\n",
       "Dest                       0\n",
       "Distance                   0\n",
       "Diverted                   0\n",
       "CarrierDelay         5330294\n",
       "WeatherDelay         5330294\n",
       "NASDelay             5330294\n",
       "SecurityDelay        5330294\n",
       "LateAircraftDelay    5330294\n",
       "Date                       0\n",
       "dtype: int64"
      ]
     },
     "execution_count": 181,
     "metadata": {},
     "output_type": "execute_result"
    }
   ],
   "source": [
    "df_flights.isna().sum()"
   ]
  },
  {
   "cell_type": "markdown",
   "metadata": {},
   "source": [
    "### Test"
   ]
  },
  {
   "cell_type": "code",
   "execution_count": 182,
   "metadata": {},
   "outputs": [
    {
     "data": {
      "text/plain": [
       "Year                       0\n",
       "Month                      0\n",
       "DayofMonth                 0\n",
       "DayOfWeek                  0\n",
       "DepTime                    0\n",
       "CRSDepTime                 0\n",
       "ArrTime                    0\n",
       "UniqueCarrier              0\n",
       "AirTime                    0\n",
       "ArrDelay                   0\n",
       "DepDelay                   0\n",
       "Origin                     0\n",
       "Dest                       0\n",
       "Distance                   0\n",
       "Diverted                   0\n",
       "CarrierDelay         5330294\n",
       "WeatherDelay         5330294\n",
       "NASDelay             5330294\n",
       "SecurityDelay        5330294\n",
       "LateAircraftDelay    5330294\n",
       "Date                       0\n",
       "dtype: int64"
      ]
     },
     "execution_count": 182,
     "metadata": {},
     "output_type": "execute_result"
    }
   ],
   "source": [
    "df_flights.isna().sum()"
   ]
  },
  {
   "cell_type": "code",
   "execution_count": 183,
   "metadata": {},
   "outputs": [
    {
     "data": {
      "text/plain": [
       "(6855029, 21)"
      ]
     },
     "execution_count": 183,
     "metadata": {},
     "output_type": "execute_result"
    }
   ],
   "source": [
    "df_flights.shape"
   ]
  },
  {
   "cell_type": "code",
   "execution_count": 184,
   "metadata": {},
   "outputs": [],
   "source": [
    "df_clean= df_flights.copy()"
   ]
  },
  {
   "cell_type": "markdown",
   "metadata": {},
   "source": [
    "## Analysing"
   ]
  },
  {
   "cell_type": "markdown",
   "metadata": {},
   "source": [
    "- Cancelled Flights\n",
    "- Cancelled Flights VS all Flights\n",
    "\n",
    "- Delayed Flights VS all Flights \n",
    "\n",
    "\n",
    "- Quantify the reasons behind flight delay by plotting the delay count. It is evident that Arrival and Departure delay is the biggest reasons behind the delay.\n",
    "- Cancellation resons\n",
    "- Delay reason per month, Day\n",
    "- Plot count of all flights and delayed flights by week"
   ]
  },
  {
   "cell_type": "code",
   "execution_count": 185,
   "metadata": {},
   "outputs": [
    {
     "data": {
      "image/png": "[encoded data removed]",
      "text/plain": [
       "<Figure size 1080x720 with 20 Axes>"
      ]
     },
     "metadata": {
      "needs_background": "light"
     },
     "output_type": "display_data"
    }
   ],
   "source": [
    "# check qucik histogram\n",
    "df_clean.hist(figsize=[15, 10]);"
   ]
  },
  {
   "cell_type": "markdown",
   "metadata": {},
   "source": [
    "### Analyse Cancelled Flights"
   ]
  },
  {
   "cell_type": "code",
   "execution_count": 52,
   "metadata": {},
   "outputs": [
    {
     "data": {
      "text/plain": [
       "Weather     54904\n",
       "Carrier     54330\n",
       "NAS         28188\n",
       "Security       12\n",
       "Name: Cancellation_Desc, dtype: int64"
      ]
     },
     "execution_count": 52,
     "metadata": {},
     "output_type": "execute_result"
    }
   ],
   "source": [
    "can_order = df_cancelled['Cancellation_Desc'].value_counts()\n",
    "can_order"
   ]
  },
  {
   "cell_type": "code",
   "execution_count": 54,
   "metadata": {},
   "outputs": [
    {
     "data": {
      "image/png": "[encoded data removed]",
      "text/plain": [
       "<Figure size 432x288 with 1 Axes>"
      ]
     },
     "metadata": {
      "needs_background": "light"
     },
     "output_type": "display_data"
    }
   ],
   "source": [
    "base_color = sns.color_palette()[0]\n",
    "can_order = df_cancelled['Cancellation_Desc'].value_counts().index\n",
    "sns.countplot(data = df_cancelled, y = 'Cancellation_Desc', color = base_color, order = can_order)\n",
    "plt.xticks(rotation = 90);"
   ]
  },
  {
   "cell_type": "code",
   "execution_count": 63,
   "metadata": {},
   "outputs": [
    {
     "data": {
      "image/png": "[encoded data removed]",
      "text/plain": [
       "<Figure size 432x288 with 1 Axes>"
      ]
     },
     "metadata": {},
     "output_type": "display_data"
    }
   ],
   "source": [
    "can_flights_Desc = df_cancelled.groupby(\"Cancellation_Desc\").size()\n",
    "sorted_Desc = can_flights_Desc.sort_values()\n",
    "plt.pie(sorted_Desc, labels = sorted_Desc.index, startangle = 90, counterclock = False, autopct = '%1.1f%%',\n",
    "       textprops=dict( color = \"black\", size = 12))\n",
    "plt.axis(\"square\")\n",
    "plt.title(\"Cancelled Flights Reasons Ration\");\n"
   ]
  },
  {
   "cell_type": "code",
   "execution_count": 91,
   "metadata": {},
   "outputs": [
    {
     "data": {
      "image/png": "[encoded data removed]",
      "text/plain": [
       "<Figure size 1008x720 with 1 Axes>"
      ]
     },
     "metadata": {},
     "output_type": "display_data"
    }
   ],
   "source": [
    "df_cancelled[['Month','Cancellation_Desc']].groupby(['Month']).count().plot(kind='line', figsize=(14, 10), grid=False, fontsize=16)\n",
    "plt.title(\"Cancelled Flights Per Month\")\n",
    "plt.legend().remove()\n",
    "plt.show();"
   ]
  },
  {
   "cell_type": "markdown",
   "metadata": {},
   "source": [
    "Analysis: There were more cancellations from October to December and in the first month of the year . I think the bad weather in winter might actually be the reason behind all the cancellations."
   ]
  },
  {
   "cell_type": "markdown",
   "metadata": {},
   "source": [
    "#### Cancelled Flights VS all Flights"
   ]
  },
  {
   "cell_type": "code",
   "execution_count": 267,
   "metadata": {},
   "outputs": [
    {
     "data": {
      "text/plain": [
       "False    6872294\n",
       "True      137434\n",
       "Name: Cancelled, dtype: int64"
      ]
     },
     "execution_count": 267,
     "metadata": {},
     "output_type": "execute_result"
    }
   ],
   "source": [
    "can_flights = df_cancelled['Cancelled'].value_counts()\n",
    "can_flights"
   ]
  },
  {
   "cell_type": "code",
   "execution_count": 268,
   "metadata": {},
   "outputs": [
    {
     "data": {
      "image/png": "[encoded data removed]",
      "text/plain": [
       "<Figure size 432x288 with 1 Axes>"
      ]
     },
     "metadata": {},
     "output_type": "display_data"
    }
   ],
   "source": [
    "# plot Cancelled VS all flights\n",
    "can_flights = df_cancelled.groupby(\"Cancelled\").size()\n",
    "sorted_counts = can_flights.sort_values()\n",
    "plt.pie(sorted_counts, labels = sorted_counts.index, startangle = 90, counterclock = False, autopct = '%1.1f%%',\n",
    "       textprops=dict(color = \"black\", size = 12))\n",
    "plt.axis(\"square\")\n",
    "plt.title(\"Cancelled Flights ratio\");"
   ]
  },
  {
   "cell_type": "markdown",
   "metadata": {},
   "source": [
    "### Analyse Diverted Flights"
   ]
  },
  {
   "cell_type": "code",
   "execution_count": 285,
   "metadata": {},
   "outputs": [
    {
     "data": {
      "text/plain": [
       "False    6992463\n",
       "True       17265\n",
       "Name: Diverted, dtype: int64"
      ]
     },
     "execution_count": 285,
     "metadata": {},
     "output_type": "execute_result"
    }
   ],
   "source": [
    "div_flights = df_diverted['Diverted'].value_counts()\n",
    "div_flights"
   ]
  },
  {
   "cell_type": "code",
   "execution_count": 286,
   "metadata": {
    "scrolled": true
   },
   "outputs": [
    {
     "data": {
      "image/png": "[encoded data removed]",
      "text/plain": [
       "<Figure size 432x288 with 1 Axes>"
      ]
     },
     "metadata": {},
     "output_type": "display_data"
    }
   ],
   "source": [
    "# plot Cancelled VS all flights\n",
    "div_flights = df_diverted.groupby(\"Diverted\").size()\n",
    "sorted_counts_div = div_flights.sort_values()\n",
    "\n",
    "\n",
    "plt.axis(\"square\")\n",
    "plt.title(\"Diverted Flights ratio\");"
   ]
  },
  {
   "cell_type": "markdown",
   "metadata": {},
   "source": [
    "### Analyse Delayed Flights"
   ]
  },
  {
   "cell_type": "code",
   "execution_count": 196,
   "metadata": {
    "scrolled": true
   },
   "outputs": [
    {
     "data": {
      "image/png": "[encoded data removed]",
      "text/plain": [
       "<Figure size 432x288 with 1 Axes>"
      ]
     },
     "metadata": {
      "needs_background": "light"
     },
     "output_type": "display_data"
    }
   ],
   "source": [
    "df_clean[['Month','ArrDelay']].groupby(['Month']).mean().plot(kind='line',  grid=False, fontsize=16)\n",
    "plt.legend().remove()\n",
    "plt.title('Average delay by month');\n"
   ]
  },
  {
   "cell_type": "code",
   "execution_count": 197,
   "metadata": {},
   "outputs": [
    {
     "data": {
      "image/png": "[encoded data removed]",
      "text/plain": [
       "<Figure size 432x288 with 1 Axes>"
      ]
     },
     "metadata": {
      "needs_background": "light"
     },
     "output_type": "display_data"
    }
   ],
   "source": [
    "df_clean[['Month','ArrDelay']].groupby(['Month']).sum().plot(kind='line', grid=False, fontsize=16)\n",
    "plt.legend().remove()\n",
    "plt.title('Number of minutes delayed by month')\n",
    "plt.show()"
   ]
  },
  {
   "cell_type": "code",
   "execution_count": 199,
   "metadata": {},
   "outputs": [
    {
     "data": {
      "image/png": "[encoded data removed]",
      "text/plain": [
       "<Figure size 720x576 with 1 Axes>"
      ]
     },
     "metadata": {
      "needs_background": "light"
     },
     "output_type": "display_data"
    }
   ],
   "source": [
    "df1 = df_clean.filter(['Month','CarrierDelay','WeatherDelay','NASDelay','SecurityDelay','LateAircraftDelay'], axis=1)\n",
    "df1 = df1.groupby('Month')['LateAircraftDelay','CarrierDelay','WeatherDelay','NASDelay','SecurityDelay'].sum().plot(kind='line', figsize=(10, 8), grid= False, fontsize=16)\n",
    "plt.show();"
   ]
  },
  {
   "cell_type": "markdown",
   "metadata": {},
   "source": [
    "The correlation matrix identifies three main variables for delays: Late Aircraft Delay, Carrier Delay and NAS Delay. The graph corroborates this assumption, showing how those three variables create most of delays during the year. "
   ]
  },
  {
   "cell_type": "markdown",
   "metadata": {},
   "source": [
    "\n",
    "#### Delayed Flights VS all Flights per week"
   ]
  },
  {
   "cell_type": "code",
   "execution_count": 213,
   "metadata": {},
   "outputs": [
    {
     "data": {
      "text/html": [
       "<div>\n",
       "<style scoped>\n",
       "    .dataframe tbody tr th:only-of-type {\n",
       "        vertical-align: middle;\n",
       "    }\n",
       "\n",
       "    .dataframe tbody tr th {\n",
       "        vertical-align: top;\n",
       "    }\n",
       "\n",
       "    .dataframe thead th {\n",
       "        text-align: right;\n",
       "    }\n",
       "</style>\n",
       "<table border=\"1\" class=\"dataframe\">\n",
       "  <thead>\n",
       "    <tr style=\"text-align: right;\">\n",
       "      <th></th>\n",
       "      <th>Year</th>\n",
       "      <th>Month</th>\n",
       "      <th>DayofMonth</th>\n",
       "      <th>DayOfWeek</th>\n",
       "      <th>DepTime</th>\n",
       "      <th>CRSDepTime</th>\n",
       "      <th>ArrTime</th>\n",
       "      <th>UniqueCarrier</th>\n",
       "      <th>AirTime</th>\n",
       "      <th>ArrDelay</th>\n",
       "      <th>...</th>\n",
       "      <th>Dest</th>\n",
       "      <th>Distance</th>\n",
       "      <th>Diverted</th>\n",
       "      <th>CarrierDelay</th>\n",
       "      <th>WeatherDelay</th>\n",
       "      <th>NASDelay</th>\n",
       "      <th>SecurityDelay</th>\n",
       "      <th>LateAircraftDelay</th>\n",
       "      <th>Date</th>\n",
       "      <th>Delayed</th>\n",
       "    </tr>\n",
       "  </thead>\n",
       "  <tbody>\n",
       "    <tr>\n",
       "      <th>0</th>\n",
       "      <td>2008</td>\n",
       "      <td>1</td>\n",
       "      <td>3</td>\n",
       "      <td>4</td>\n",
       "      <td>2003.0</td>\n",
       "      <td>1955</td>\n",
       "      <td>2211.0</td>\n",
       "      <td>WN</td>\n",
       "      <td>116.0</td>\n",
       "      <td>-14.0</td>\n",
       "      <td>...</td>\n",
       "      <td>TPA</td>\n",
       "      <td>810</td>\n",
       "      <td>0</td>\n",
       "      <td>NaN</td>\n",
       "      <td>NaN</td>\n",
       "      <td>NaN</td>\n",
       "      <td>NaN</td>\n",
       "      <td>NaN</td>\n",
       "      <td>2008-01-03</td>\n",
       "      <td>False</td>\n",
       "    </tr>\n",
       "    <tr>\n",
       "      <th>1</th>\n",
       "      <td>2008</td>\n",
       "      <td>1</td>\n",
       "      <td>3</td>\n",
       "      <td>4</td>\n",
       "      <td>754.0</td>\n",
       "      <td>735</td>\n",
       "      <td>1002.0</td>\n",
       "      <td>WN</td>\n",
       "      <td>113.0</td>\n",
       "      <td>2.0</td>\n",
       "      <td>...</td>\n",
       "      <td>TPA</td>\n",
       "      <td>810</td>\n",
       "      <td>0</td>\n",
       "      <td>NaN</td>\n",
       "      <td>NaN</td>\n",
       "      <td>NaN</td>\n",
       "      <td>NaN</td>\n",
       "      <td>NaN</td>\n",
       "      <td>2008-01-03</td>\n",
       "      <td>True</td>\n",
       "    </tr>\n",
       "  </tbody>\n",
       "</table>\n",
       "<p>2 rows × 22 columns</p>\n",
       "</div>"
      ],
      "text/plain": [
       "   Year  Month  DayofMonth  DayOfWeek  DepTime  CRSDepTime  ArrTime  \\\n",
       "0  2008      1           3          4   2003.0        1955   2211.0   \n",
       "1  2008      1           3          4    754.0         735   1002.0   \n",
       "\n",
       "  UniqueCarrier  AirTime  ArrDelay  ...  Dest Distance Diverted  CarrierDelay  \\\n",
       "0            WN    116.0     -14.0  ...   TPA      810        0           NaN   \n",
       "1            WN    113.0       2.0  ...   TPA      810        0           NaN   \n",
       "\n",
       "   WeatherDelay  NASDelay  SecurityDelay  LateAircraftDelay       Date  \\\n",
       "0           NaN       NaN            NaN                NaN 2008-01-03   \n",
       "1           NaN       NaN            NaN                NaN 2008-01-03   \n",
       "\n",
       "   Delayed  \n",
       "0    False  \n",
       "1     True  \n",
       "\n",
       "[2 rows x 22 columns]"
      ]
     },
     "execution_count": 213,
     "metadata": {},
     "output_type": "execute_result"
    }
   ],
   "source": [
    "df_clean['Delayed'] = df_clean['DepDelay']>=15\n",
    "df_clean.head(2)"
   ]
  },
  {
   "cell_type": "markdown",
   "metadata": {},
   "source": [
    "Note: A flight delay is when an airline flight takes off and/or lands later than its scheduled time. The Federal Aviation Administration (FAA) considers a flight to be delayed when it is 15 minutes later than its scheduled time. A cancellation occurs when the airline does not operate the flight at all for a certain reason. https://en.wikipedia.org/wiki/Flight_cancellation_and_delay"
   ]
  },
  {
   "cell_type": "code",
   "execution_count": 214,
   "metadata": {},
   "outputs": [
    {
     "data": {
      "text/html": [
       "<div>\n",
       "<style scoped>\n",
       "    .dataframe tbody tr th:only-of-type {\n",
       "        vertical-align: middle;\n",
       "    }\n",
       "\n",
       "    .dataframe tbody tr th {\n",
       "        vertical-align: top;\n",
       "    }\n",
       "\n",
       "    .dataframe thead th {\n",
       "        text-align: right;\n",
       "    }\n",
       "</style>\n",
       "<table border=\"1\" class=\"dataframe\">\n",
       "  <thead>\n",
       "    <tr style=\"text-align: right;\">\n",
       "      <th></th>\n",
       "      <th>Year</th>\n",
       "    </tr>\n",
       "    <tr>\n",
       "      <th>Date</th>\n",
       "      <th></th>\n",
       "    </tr>\n",
       "  </thead>\n",
       "  <tbody>\n",
       "    <tr>\n",
       "      <th>2008-01-01</th>\n",
       "      <td>18597</td>\n",
       "    </tr>\n",
       "    <tr>\n",
       "      <th>2008-01-02</th>\n",
       "      <td>20428</td>\n",
       "    </tr>\n",
       "  </tbody>\n",
       "</table>\n",
       "</div>"
      ],
      "text/plain": [
       "             Year\n",
       "Date             \n",
       "2008-01-01  18597\n",
       "2008-01-02  20428"
      ]
     },
     "execution_count": 214,
     "metadata": {},
     "output_type": "execute_result"
    }
   ],
   "source": [
    "df_flights_by_date = pd.DataFrame(df_clean.groupby('Date')['Year'].count())\n",
    "df_flights_by_date.head(2)"
   ]
  },
  {
   "cell_type": "code",
   "execution_count": 215,
   "metadata": {},
   "outputs": [
    {
     "data": {
      "text/html": [
       "<div>\n",
       "<style scoped>\n",
       "    .dataframe tbody tr th:only-of-type {\n",
       "        vertical-align: middle;\n",
       "    }\n",
       "\n",
       "    .dataframe tbody tr th {\n",
       "        vertical-align: top;\n",
       "    }\n",
       "\n",
       "    .dataframe thead th {\n",
       "        text-align: right;\n",
       "    }\n",
       "</style>\n",
       "<table border=\"1\" class=\"dataframe\">\n",
       "  <thead>\n",
       "    <tr style=\"text-align: right;\">\n",
       "      <th></th>\n",
       "      <th>Year</th>\n",
       "    </tr>\n",
       "    <tr>\n",
       "      <th>Date</th>\n",
       "      <th></th>\n",
       "    </tr>\n",
       "  </thead>\n",
       "  <tbody>\n",
       "    <tr>\n",
       "      <th>2008-01-01</th>\n",
       "      <td>6099</td>\n",
       "    </tr>\n",
       "    <tr>\n",
       "      <th>2008-01-02</th>\n",
       "      <td>8128</td>\n",
       "    </tr>\n",
       "    <tr>\n",
       "      <th>2008-01-03</th>\n",
       "      <td>6396</td>\n",
       "    </tr>\n",
       "    <tr>\n",
       "      <th>2008-01-04</th>\n",
       "      <td>4834</td>\n",
       "    </tr>\n",
       "    <tr>\n",
       "      <th>2008-01-05</th>\n",
       "      <td>5046</td>\n",
       "    </tr>\n",
       "  </tbody>\n",
       "</table>\n",
       "</div>"
      ],
      "text/plain": [
       "            Year\n",
       "Date            \n",
       "2008-01-01  6099\n",
       "2008-01-02  8128\n",
       "2008-01-03  6396\n",
       "2008-01-04  4834\n",
       "2008-01-05  5046"
      ]
     },
     "execution_count": 215,
     "metadata": {},
     "output_type": "execute_result"
    }
   ],
   "source": [
    "df_delayed_flights_by_date = pd.DataFrame(df_clean[df_clean['Delayed']==True].groupby('Date')['Year'].count())\n",
    "df_delayed_flights_by_date.head()"
   ]
  },
  {
   "cell_type": "code",
   "execution_count": 216,
   "metadata": {},
   "outputs": [],
   "source": [
    "df_flights_by_date['Date1']=df_flights_by_date.index\n",
    "df_delayed_flights_by_date['Date1']=df_delayed_flights_by_date.index"
   ]
  },
  {
   "cell_type": "code",
   "execution_count": 217,
   "metadata": {},
   "outputs": [
    {
     "data": {
      "text/html": [
       "<div>\n",
       "<style scoped>\n",
       "    .dataframe tbody tr th:only-of-type {\n",
       "        vertical-align: middle;\n",
       "    }\n",
       "\n",
       "    .dataframe tbody tr th {\n",
       "        vertical-align: top;\n",
       "    }\n",
       "\n",
       "    .dataframe thead th {\n",
       "        text-align: right;\n",
       "    }\n",
       "</style>\n",
       "<table border=\"1\" class=\"dataframe\">\n",
       "  <thead>\n",
       "    <tr style=\"text-align: right;\">\n",
       "      <th></th>\n",
       "      <th>Year_x</th>\n",
       "      <th>Date1</th>\n",
       "      <th>Year_y</th>\n",
       "    </tr>\n",
       "  </thead>\n",
       "  <tbody>\n",
       "    <tr>\n",
       "      <th>0</th>\n",
       "      <td>18597</td>\n",
       "      <td>2008-01-01</td>\n",
       "      <td>6099</td>\n",
       "    </tr>\n",
       "    <tr>\n",
       "      <th>1</th>\n",
       "      <td>20428</td>\n",
       "      <td>2008-01-02</td>\n",
       "      <td>8128</td>\n",
       "    </tr>\n",
       "  </tbody>\n",
       "</table>\n",
       "</div>"
      ],
      "text/plain": [
       "   Year_x      Date1  Year_y\n",
       "0   18597 2008-01-01    6099\n",
       "1   20428 2008-01-02    8128"
      ]
     },
     "execution_count": 217,
     "metadata": {},
     "output_type": "execute_result"
    }
   ],
   "source": [
    "df_flights_by_date_both=df_flights_by_date.merge(df_delayed_flights_by_date, how='inner', on='Date1')\n",
    "df_flights_by_date_both.head(2)"
   ]
  },
  {
   "cell_type": "code",
   "execution_count": 218,
   "metadata": {},
   "outputs": [],
   "source": [
    "df_flights_by_date_both=df_flights_by_date_both.rename(columns={'Year_x':'All_Flights', 'Year_y':'Delayed_Flights'})"
   ]
  },
  {
   "cell_type": "code",
   "execution_count": 219,
   "metadata": {},
   "outputs": [
    {
     "data": {
      "text/html": [
       "<div>\n",
       "<style scoped>\n",
       "    .dataframe tbody tr th:only-of-type {\n",
       "        vertical-align: middle;\n",
       "    }\n",
       "\n",
       "    .dataframe tbody tr th {\n",
       "        vertical-align: top;\n",
       "    }\n",
       "\n",
       "    .dataframe thead th {\n",
       "        text-align: right;\n",
       "    }\n",
       "</style>\n",
       "<table border=\"1\" class=\"dataframe\">\n",
       "  <thead>\n",
       "    <tr style=\"text-align: right;\">\n",
       "      <th></th>\n",
       "      <th>All_Flights</th>\n",
       "      <th>Date1</th>\n",
       "      <th>Delayed_Flights</th>\n",
       "    </tr>\n",
       "  </thead>\n",
       "  <tbody>\n",
       "    <tr>\n",
       "      <th>0</th>\n",
       "      <td>18597</td>\n",
       "      <td>2008-01-01</td>\n",
       "      <td>6099</td>\n",
       "    </tr>\n",
       "    <tr>\n",
       "      <th>1</th>\n",
       "      <td>20428</td>\n",
       "      <td>2008-01-02</td>\n",
       "      <td>8128</td>\n",
       "    </tr>\n",
       "  </tbody>\n",
       "</table>\n",
       "</div>"
      ],
      "text/plain": [
       "   All_Flights      Date1  Delayed_Flights\n",
       "0        18597 2008-01-01             6099\n",
       "1        20428 2008-01-02             8128"
      ]
     },
     "execution_count": 219,
     "metadata": {},
     "output_type": "execute_result"
    }
   ],
   "source": [
    "df_flights_by_date_both.head(2)"
   ]
  },
  {
   "cell_type": "code",
   "execution_count": 220,
   "metadata": {},
   "outputs": [],
   "source": [
    "df_flights_by_date_both['Week_Num']=df_flights_by_date_both['Date1'].apply(lambda x: x.isocalendar()[1])"
   ]
  },
  {
   "cell_type": "code",
   "execution_count": 221,
   "metadata": {},
   "outputs": [
    {
     "data": {
      "text/html": [
       "<div>\n",
       "<style scoped>\n",
       "    .dataframe tbody tr th:only-of-type {\n",
       "        vertical-align: middle;\n",
       "    }\n",
       "\n",
       "    .dataframe tbody tr th {\n",
       "        vertical-align: top;\n",
       "    }\n",
       "\n",
       "    .dataframe thead th {\n",
       "        text-align: right;\n",
       "    }\n",
       "</style>\n",
       "<table border=\"1\" class=\"dataframe\">\n",
       "  <thead>\n",
       "    <tr style=\"text-align: right;\">\n",
       "      <th></th>\n",
       "      <th>Week_Num</th>\n",
       "      <th>All_Flights</th>\n",
       "      <th>Delayed_Flights</th>\n",
       "    </tr>\n",
       "  </thead>\n",
       "  <tbody>\n",
       "    <tr>\n",
       "      <th>0</th>\n",
       "      <td>1</td>\n",
       "      <td>18597</td>\n",
       "      <td>6099</td>\n",
       "    </tr>\n",
       "    <tr>\n",
       "      <th>1</th>\n",
       "      <td>1</td>\n",
       "      <td>20428</td>\n",
       "      <td>8128</td>\n",
       "    </tr>\n",
       "    <tr>\n",
       "      <th>2</th>\n",
       "      <td>1</td>\n",
       "      <td>20449</td>\n",
       "      <td>6396</td>\n",
       "    </tr>\n",
       "    <tr>\n",
       "      <th>3</th>\n",
       "      <td>1</td>\n",
       "      <td>20094</td>\n",
       "      <td>4834</td>\n",
       "    </tr>\n",
       "    <tr>\n",
       "      <th>4</th>\n",
       "      <td>1</td>\n",
       "      <td>17535</td>\n",
       "      <td>5046</td>\n",
       "    </tr>\n",
       "  </tbody>\n",
       "</table>\n",
       "</div>"
      ],
      "text/plain": [
       "   Week_Num  All_Flights  Delayed_Flights\n",
       "0         1        18597             6099\n",
       "1         1        20428             8128\n",
       "2         1        20449             6396\n",
       "3         1        20094             4834\n",
       "4         1        17535             5046"
      ]
     },
     "execution_count": 221,
     "metadata": {},
     "output_type": "execute_result"
    }
   ],
   "source": [
    "df_flights_by_week = df_flights_by_date_both[['Week_Num', 'All_Flights', 'Delayed_Flights']]\n",
    "df_flights_by_week.head()"
   ]
  },
  {
   "cell_type": "code",
   "execution_count": 222,
   "metadata": {},
   "outputs": [
    {
     "data": {
      "text/html": [
       "<div>\n",
       "<style scoped>\n",
       "    .dataframe tbody tr th:only-of-type {\n",
       "        vertical-align: middle;\n",
       "    }\n",
       "\n",
       "    .dataframe tbody tr th {\n",
       "        vertical-align: top;\n",
       "    }\n",
       "\n",
       "    .dataframe thead th {\n",
       "        text-align: right;\n",
       "    }\n",
       "</style>\n",
       "<table border=\"1\" class=\"dataframe\">\n",
       "  <thead>\n",
       "    <tr style=\"text-align: right;\">\n",
       "      <th></th>\n",
       "      <th>All_Flights</th>\n",
       "      <th>Delayed_Flights</th>\n",
       "    </tr>\n",
       "    <tr>\n",
       "      <th>Week_Num</th>\n",
       "      <th></th>\n",
       "      <th></th>\n",
       "    </tr>\n",
       "  </thead>\n",
       "  <tbody>\n",
       "    <tr>\n",
       "      <th>1</th>\n",
       "      <td>167890</td>\n",
       "      <td>46521</td>\n",
       "    </tr>\n",
       "    <tr>\n",
       "      <th>2</th>\n",
       "      <td>132793</td>\n",
       "      <td>21474</td>\n",
       "    </tr>\n",
       "    <tr>\n",
       "      <th>3</th>\n",
       "      <td>130790</td>\n",
       "      <td>23022</td>\n",
       "    </tr>\n",
       "    <tr>\n",
       "      <th>4</th>\n",
       "      <td>131164</td>\n",
       "      <td>30710</td>\n",
       "    </tr>\n",
       "    <tr>\n",
       "      <th>5</th>\n",
       "      <td>129036</td>\n",
       "      <td>29711</td>\n",
       "    </tr>\n",
       "  </tbody>\n",
       "</table>\n",
       "</div>"
      ],
      "text/plain": [
       "          All_Flights  Delayed_Flights\n",
       "Week_Num                              \n",
       "1              167890            46521\n",
       "2              132793            21474\n",
       "3              130790            23022\n",
       "4              131164            30710\n",
       "5              129036            29711"
      ]
     },
     "execution_count": 222,
     "metadata": {},
     "output_type": "execute_result"
    }
   ],
   "source": [
    "df_flights_by_week2=df_flights_by_week.groupby(['Week_Num']).sum()\n",
    "df_flights_by_week2.head()"
   ]
  },
  {
   "cell_type": "code",
   "execution_count": 223,
   "metadata": {},
   "outputs": [],
   "source": [
    "df_flights_by_week2['Week_Num']= df_flights_by_week2.index"
   ]
  },
  {
   "cell_type": "code",
   "execution_count": 224,
   "metadata": {},
   "outputs": [
    {
     "data": {
      "text/plain": [
       "Text(0, 0.5, 'Number of Flights')"
      ]
     },
     "execution_count": 224,
     "metadata": {},
     "output_type": "execute_result"
    },
    {
     "data": {
      "image/png": "[encoded data removed]",
      "text/plain": [
       "<Figure size 1008x720 with 1 Axes>"
      ]
     },
     "metadata": {
      "needs_background": "light"
     },
     "output_type": "display_data"
    }
   ],
   "source": [
    "#plt.style.use('fivethirtyeight')\n",
    "df_flights_by_week2.set_index(['Week_Num']).plot(kind='line', figsize=(14, 10), grid= False, fontsize=16)\n",
    "plt.title(\"Delayed Flights vs. Total Flights\", fontsize=24, y=1.01)\n",
    "plt.xlabel(\"Week Number\", fontsize=20, labelpad=12)\n",
    "plt.ylabel(\"Number of Flights\", fontsize=20, labelpad=12)"
   ]
  },
  {
   "cell_type": "markdown",
   "metadata": {},
   "source": [
    "Analysis: It is apparent from the graph of all flights and delayed flights that there is a correlation between the two as expected. Surprisingly, the volatility in the delayed curve not present in the all-flights curve indicates that delayed flights is not a perfect function of the total number of flights. For example, the variance (or increases and decreases) in the delayed curve between weeks 10 and 20, 50 and 52 and to a lesser extent 36 and 40, is not reciprocated in the all-flights curve."
   ]
  },
  {
   "cell_type": "code",
   "execution_count": 237,
   "metadata": {},
   "outputs": [
    {
     "data": {
      "image/png": "[encoded data removed]",
      "text/plain": [
       "<Figure size 432x288 with 1 Axes>"
      ]
     },
     "metadata": {},
     "output_type": "display_data"
    }
   ],
   "source": [
    "def2 = df_clean.groupby(\"Delayed\").size()\n",
    "sorted_counts_def2 = def2.sort_values()\n",
    "plt.pie(sorted_counts_def2, labels = sorted_counts_def2.index, startangle = 90, counterclock = False, autopct = '%1.1f%%',\n",
    "       textprops=dict(color = \"black\", size = 12))\n",
    "plt.title(\"Delayed Flights ratio\");"
   ]
  },
  {
   "cell_type": "markdown",
   "metadata": {},
   "source": [
    "### Analyse the Distance"
   ]
  },
  {
   "cell_type": "code",
   "execution_count": 111,
   "metadata": {},
   "outputs": [
    {
     "data": {
      "image/png": "[encoded data removed]",
      "text/plain": [
       "<Figure size 432x288 with 1 Axes>"
      ]
     },
     "metadata": {},
     "output_type": "display_data"
    }
   ],
   "source": [
    "plt.hist(data = df_clean, x = \"Distance\", bins = 50)\n",
    "plt.xlabel(\"distance\");"
   ]
  },
  {
   "cell_type": "code",
   "execution_count": 112,
   "metadata": {},
   "outputs": [
    {
     "data": {
      "text/html": [
       "<div>\n",
       "<style scoped>\n",
       "    .dataframe tbody tr th:only-of-type {\n",
       "        vertical-align: middle;\n",
       "    }\n",
       "\n",
       "    .dataframe tbody tr th {\n",
       "        vertical-align: top;\n",
       "    }\n",
       "\n",
       "    .dataframe thead th {\n",
       "        text-align: right;\n",
       "    }\n",
       "</style>\n",
       "<table border=\"1\" class=\"dataframe\">\n",
       "  <thead>\n",
       "    <tr style=\"text-align: right;\">\n",
       "      <th></th>\n",
       "      <th>Year</th>\n",
       "      <th>Month</th>\n",
       "      <th>DayofMonth</th>\n",
       "      <th>DayOfWeek</th>\n",
       "      <th>DepTime</th>\n",
       "      <th>ArrTime</th>\n",
       "      <th>UniqueCarrier</th>\n",
       "      <th>AirTime</th>\n",
       "      <th>ArrDelay</th>\n",
       "      <th>DepDelay</th>\n",
       "      <th>...</th>\n",
       "      <th>Dest</th>\n",
       "      <th>Distance</th>\n",
       "      <th>Diverted</th>\n",
       "      <th>CarrierDelay</th>\n",
       "      <th>WeatherDelay</th>\n",
       "      <th>NASDelay</th>\n",
       "      <th>SecurityDelay</th>\n",
       "      <th>LateAircraftDelay</th>\n",
       "      <th>Date</th>\n",
       "      <th>Delayed</th>\n",
       "    </tr>\n",
       "  </thead>\n",
       "  <tbody>\n",
       "    <tr>\n",
       "      <th>4815530</th>\n",
       "      <td>2008</td>\n",
       "      <td>8</td>\n",
       "      <td>13</td>\n",
       "      <td>3</td>\n",
       "      <td>935.0</td>\n",
       "      <td>1244.0</td>\n",
       "      <td>CO</td>\n",
       "      <td>467.0</td>\n",
       "      <td>-1.0</td>\n",
       "      <td>0.0</td>\n",
       "      <td>...</td>\n",
       "      <td>HNL</td>\n",
       "      <td>3904</td>\n",
       "      <td>0</td>\n",
       "      <td>NaN</td>\n",
       "      <td>NaN</td>\n",
       "      <td>NaN</td>\n",
       "      <td>NaN</td>\n",
       "      <td>NaN</td>\n",
       "      <td>2008-08-13</td>\n",
       "      <td>False</td>\n",
       "    </tr>\n",
       "    <tr>\n",
       "      <th>2004514</th>\n",
       "      <td>2008</td>\n",
       "      <td>4</td>\n",
       "      <td>23</td>\n",
       "      <td>3</td>\n",
       "      <td>1624.0</td>\n",
       "      <td>458.0</td>\n",
       "      <td>UA</td>\n",
       "      <td>437.0</td>\n",
       "      <td>-22.0</td>\n",
       "      <td>5.0</td>\n",
       "      <td>...</td>\n",
       "      <td>ORD</td>\n",
       "      <td>4243</td>\n",
       "      <td>0</td>\n",
       "      <td>NaN</td>\n",
       "      <td>NaN</td>\n",
       "      <td>NaN</td>\n",
       "      <td>NaN</td>\n",
       "      <td>NaN</td>\n",
       "      <td>2008-04-23</td>\n",
       "      <td>False</td>\n",
       "    </tr>\n",
       "    <tr>\n",
       "      <th>4453967</th>\n",
       "      <td>2008</td>\n",
       "      <td>8</td>\n",
       "      <td>8</td>\n",
       "      <td>5</td>\n",
       "      <td>1040.0</td>\n",
       "      <td>1420.0</td>\n",
       "      <td>UA</td>\n",
       "      <td>502.0</td>\n",
       "      <td>-10.0</td>\n",
       "      <td>1.0</td>\n",
       "      <td>...</td>\n",
       "      <td>HNL</td>\n",
       "      <td>4243</td>\n",
       "      <td>0</td>\n",
       "      <td>NaN</td>\n",
       "      <td>NaN</td>\n",
       "      <td>NaN</td>\n",
       "      <td>NaN</td>\n",
       "      <td>NaN</td>\n",
       "      <td>2008-08-08</td>\n",
       "      <td>False</td>\n",
       "    </tr>\n",
       "    <tr>\n",
       "      <th>1153851</th>\n",
       "      <td>2008</td>\n",
       "      <td>2</td>\n",
       "      <td>2</td>\n",
       "      <td>6</td>\n",
       "      <td>936.0</td>\n",
       "      <td>1402.0</td>\n",
       "      <td>CO</td>\n",
       "      <td>485.0</td>\n",
       "      <td>-3.0</td>\n",
       "      <td>1.0</td>\n",
       "      <td>...</td>\n",
       "      <td>HNL</td>\n",
       "      <td>3904</td>\n",
       "      <td>0</td>\n",
       "      <td>NaN</td>\n",
       "      <td>NaN</td>\n",
       "      <td>NaN</td>\n",
       "      <td>NaN</td>\n",
       "      <td>NaN</td>\n",
       "      <td>2008-02-02</td>\n",
       "      <td>False</td>\n",
       "    </tr>\n",
       "    <tr>\n",
       "      <th>2699352</th>\n",
       "      <td>2008</td>\n",
       "      <td>5</td>\n",
       "      <td>24</td>\n",
       "      <td>6</td>\n",
       "      <td>1543.0</td>\n",
       "      <td>618.0</td>\n",
       "      <td>DL</td>\n",
       "      <td>491.0</td>\n",
       "      <td>8.0</td>\n",
       "      <td>17.0</td>\n",
       "      <td>...</td>\n",
       "      <td>ATL</td>\n",
       "      <td>4502</td>\n",
       "      <td>0</td>\n",
       "      <td>NaN</td>\n",
       "      <td>NaN</td>\n",
       "      <td>NaN</td>\n",
       "      <td>NaN</td>\n",
       "      <td>NaN</td>\n",
       "      <td>2008-05-24</td>\n",
       "      <td>True</td>\n",
       "    </tr>\n",
       "  </tbody>\n",
       "</table>\n",
       "<p>5 rows × 21 columns</p>\n",
       "</div>"
      ],
      "text/plain": [
       "         Year  Month  DayofMonth  DayOfWeek  DepTime  ArrTime UniqueCarrier  \\\n",
       "4815530  2008      8          13          3    935.0   1244.0            CO   \n",
       "2004514  2008      4          23          3   1624.0    458.0            UA   \n",
       "4453967  2008      8           8          5   1040.0   1420.0            UA   \n",
       "1153851  2008      2           2          6    936.0   1402.0            CO   \n",
       "2699352  2008      5          24          6   1543.0    618.0            DL   \n",
       "\n",
       "         AirTime  ArrDelay  DepDelay  ... Dest Distance  Diverted  \\\n",
       "4815530    467.0      -1.0       0.0  ...  HNL     3904         0   \n",
       "2004514    437.0     -22.0       5.0  ...  ORD     4243         0   \n",
       "4453967    502.0     -10.0       1.0  ...  HNL     4243         0   \n",
       "1153851    485.0      -3.0       1.0  ...  HNL     3904         0   \n",
       "2699352    491.0       8.0      17.0  ...  ATL     4502         0   \n",
       "\n",
       "         CarrierDelay  WeatherDelay  NASDelay  SecurityDelay  \\\n",
       "4815530           NaN           NaN       NaN            NaN   \n",
       "2004514           NaN           NaN       NaN            NaN   \n",
       "4453967           NaN           NaN       NaN            NaN   \n",
       "1153851           NaN           NaN       NaN            NaN   \n",
       "2699352           NaN           NaN       NaN            NaN   \n",
       "\n",
       "         LateAircraftDelay       Date Delayed  \n",
       "4815530                NaN 2008-08-13   False  \n",
       "2004514                NaN 2008-04-23   False  \n",
       "4453967                NaN 2008-08-08   False  \n",
       "1153851                NaN 2008-02-02   False  \n",
       "2699352                NaN 2008-05-24    True  \n",
       "\n",
       "[5 rows x 21 columns]"
      ]
     },
     "execution_count": 112,
     "metadata": {},
     "output_type": "execute_result"
    }
   ],
   "source": [
    "# The extremely high values  should be paid more attention. These can be outliers.\n",
    "df_clean[df_clean.Distance > 3500].sample(5)"
   ]
  },
  {
   "cell_type": "code",
   "execution_count": 113,
   "metadata": {},
   "outputs": [
    {
     "data": {
      "image/png": "[encoded data removed]",
      "text/plain": [
       "<Figure size 432x288 with 1 Axes>"
      ]
     },
     "metadata": {},
     "output_type": "display_data"
    }
   ],
   "source": [
    "# take a closer look at the data in the x-range bwtween 0 and 3500.\n",
    "# set x-limit betweeen 0 and 3500\n",
    "plt.hist(data=df_clean, x=\"Distance\", bins=60)\n",
    "plt.xlabel(\"Distance\")\n",
    "plt.xlim([0,3500]);"
   ]
  },
  {
   "cell_type": "code",
   "execution_count": 114,
   "metadata": {},
   "outputs": [
    {
     "data": {
      "image/png": "[encoded data removed]",
      "text/plain": [
       "<Figure size 432x288 with 1 Axes>"
      ]
     },
     "metadata": {},
     "output_type": "display_data"
    }
   ],
   "source": [
    "#There is a long tail in the distribution, so put it on a log scale instead.\n",
    "\n",
    "bin = 10 ** np.arange(np.log10(df.Distance.min()), np.log10(df.Distance.max())+0.1, 0.1)\n",
    "plt.hist(data=df_clean, x=\"Distance\", bins=bin)\n",
    "plt.xscale(\"log\")\n",
    "plt.xlabel(\"Distanece(km)\")\n",
    "plt.xticks([10,30,100,300,1000,3000],[10,30,100,300,1000,3000]);"
   ]
  },
  {
   "cell_type": "markdown",
   "metadata": {},
   "source": [
    "Distance has a long-tailed distribution, with a lot of flights on the short distance end, and a few on the long distance end. When plotted on a log-scale, the distance distribution looks roughly normal distribution with a distance ceilings at the right foot. This is simply because the longer the distance between airports is, the more limited flights there are. And some highest values are, as I saw, the flight from or to Hawaii."
   ]
  },
  {
   "cell_type": "markdown",
   "metadata": {},
   "source": [
    "#### Distance vs. AirTime\n"
   ]
  },
  {
   "cell_type": "code",
   "execution_count": 115,
   "metadata": {},
   "outputs": [
    {
     "data": {
      "image/png": "[encoded data removed]",
      "text/plain": [
       "<Figure size 432x288 with 1 Axes>"
      ]
     },
     "metadata": {},
     "output_type": "display_data"
    }
   ],
   "source": [
    "plt.scatter(data=df_clean, x=\"Distance\", y=\"AirTime\",s=1)\n",
    "plt.xlabel(\"Distance\")\n",
    "plt.ylabel(\"Air Time\");"
   ]
  },
  {
   "cell_type": "code",
   "execution_count": null,
   "metadata": {},
   "outputs": [],
   "source": []
  }
 ],
 "metadata": {
  "kernelspec": {
   "display_name": "Python 3",
   "language": "python",
   "name": "python3"
  },
  "language_info": {
   "codemirror_mode": {
    "name": "ipython",
    "version": 3
   },
   "file_extension": ".py",
   "mimetype": "text/x-python",
   "name": "python",
   "nbconvert_exporter": "python",
   "pygments_lexer": "ipython3",
   "version": "3.7.3"
  }
 },
 "nbformat": 4,
 "nbformat_minor": 2
}
